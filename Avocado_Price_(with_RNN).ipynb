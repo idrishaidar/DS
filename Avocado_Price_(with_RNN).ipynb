{
 "cells": [
  {
   "cell_type": "code",
   "execution_count": 25,
   "metadata": {
    "id": "uh42eZ0BX2oN"
   },
   "outputs": [],
   "source": [
    "import pandas as pd\n",
    "import numpy as np\n",
    "import matplotlib.pyplot as plt\n",
    "import seaborn as sns\n",
    "import tensorflow as tf\n",
    "\n",
    "from statsmodels.tsa.arima_model import ARIMA"
   ]
  },
  {
   "cell_type": "code",
   "execution_count": 2,
   "metadata": {
    "id": "pO-1rrdlZFIe"
   },
   "outputs": [],
   "source": [
    "df_avocado = pd.read_csv('Datasets/avocado.csv', parse_dates=['Date'])"
   ]
  },
  {
   "cell_type": "code",
   "execution_count": 3,
   "metadata": {
    "colab": {
     "base_uri": "https://localhost:8080/",
     "height": 206
    },
    "id": "w83V7j6XZHfl",
    "outputId": "abda1683-fd1b-48e5-b0ec-4dbb899de1f3"
   },
   "outputs": [
    {
     "data": {
      "text/html": [
       "<div>\n",
       "<style scoped>\n",
       "    .dataframe tbody tr th:only-of-type {\n",
       "        vertical-align: middle;\n",
       "    }\n",
       "\n",
       "    .dataframe tbody tr th {\n",
       "        vertical-align: top;\n",
       "    }\n",
       "\n",
       "    .dataframe thead th {\n",
       "        text-align: right;\n",
       "    }\n",
       "</style>\n",
       "<table border=\"1\" class=\"dataframe\">\n",
       "  <thead>\n",
       "    <tr style=\"text-align: right;\">\n",
       "      <th></th>\n",
       "      <th>Unnamed: 0</th>\n",
       "      <th>Date</th>\n",
       "      <th>AveragePrice</th>\n",
       "      <th>Total Volume</th>\n",
       "      <th>4046</th>\n",
       "      <th>4225</th>\n",
       "      <th>4770</th>\n",
       "      <th>Total Bags</th>\n",
       "      <th>Small Bags</th>\n",
       "      <th>Large Bags</th>\n",
       "      <th>XLarge Bags</th>\n",
       "      <th>type</th>\n",
       "      <th>year</th>\n",
       "      <th>region</th>\n",
       "    </tr>\n",
       "  </thead>\n",
       "  <tbody>\n",
       "    <tr>\n",
       "      <th>0</th>\n",
       "      <td>0</td>\n",
       "      <td>2015-12-27</td>\n",
       "      <td>1.33</td>\n",
       "      <td>64236.62</td>\n",
       "      <td>1036.74</td>\n",
       "      <td>54454.85</td>\n",
       "      <td>48.16</td>\n",
       "      <td>8696.87</td>\n",
       "      <td>8603.62</td>\n",
       "      <td>93.25</td>\n",
       "      <td>0.0</td>\n",
       "      <td>conventional</td>\n",
       "      <td>2015</td>\n",
       "      <td>Albany</td>\n",
       "    </tr>\n",
       "    <tr>\n",
       "      <th>1</th>\n",
       "      <td>1</td>\n",
       "      <td>2015-12-20</td>\n",
       "      <td>1.35</td>\n",
       "      <td>54876.98</td>\n",
       "      <td>674.28</td>\n",
       "      <td>44638.81</td>\n",
       "      <td>58.33</td>\n",
       "      <td>9505.56</td>\n",
       "      <td>9408.07</td>\n",
       "      <td>97.49</td>\n",
       "      <td>0.0</td>\n",
       "      <td>conventional</td>\n",
       "      <td>2015</td>\n",
       "      <td>Albany</td>\n",
       "    </tr>\n",
       "    <tr>\n",
       "      <th>2</th>\n",
       "      <td>2</td>\n",
       "      <td>2015-12-13</td>\n",
       "      <td>0.93</td>\n",
       "      <td>118220.22</td>\n",
       "      <td>794.70</td>\n",
       "      <td>109149.67</td>\n",
       "      <td>130.50</td>\n",
       "      <td>8145.35</td>\n",
       "      <td>8042.21</td>\n",
       "      <td>103.14</td>\n",
       "      <td>0.0</td>\n",
       "      <td>conventional</td>\n",
       "      <td>2015</td>\n",
       "      <td>Albany</td>\n",
       "    </tr>\n",
       "    <tr>\n",
       "      <th>3</th>\n",
       "      <td>3</td>\n",
       "      <td>2015-12-06</td>\n",
       "      <td>1.08</td>\n",
       "      <td>78992.15</td>\n",
       "      <td>1132.00</td>\n",
       "      <td>71976.41</td>\n",
       "      <td>72.58</td>\n",
       "      <td>5811.16</td>\n",
       "      <td>5677.40</td>\n",
       "      <td>133.76</td>\n",
       "      <td>0.0</td>\n",
       "      <td>conventional</td>\n",
       "      <td>2015</td>\n",
       "      <td>Albany</td>\n",
       "    </tr>\n",
       "    <tr>\n",
       "      <th>4</th>\n",
       "      <td>4</td>\n",
       "      <td>2015-11-29</td>\n",
       "      <td>1.28</td>\n",
       "      <td>51039.60</td>\n",
       "      <td>941.48</td>\n",
       "      <td>43838.39</td>\n",
       "      <td>75.78</td>\n",
       "      <td>6183.95</td>\n",
       "      <td>5986.26</td>\n",
       "      <td>197.69</td>\n",
       "      <td>0.0</td>\n",
       "      <td>conventional</td>\n",
       "      <td>2015</td>\n",
       "      <td>Albany</td>\n",
       "    </tr>\n",
       "  </tbody>\n",
       "</table>\n",
       "</div>"
      ],
      "text/plain": [
       "   Unnamed: 0       Date  AveragePrice  Total Volume     4046       4225  \\\n",
       "0           0 2015-12-27          1.33      64236.62  1036.74   54454.85   \n",
       "1           1 2015-12-20          1.35      54876.98   674.28   44638.81   \n",
       "2           2 2015-12-13          0.93     118220.22   794.70  109149.67   \n",
       "3           3 2015-12-06          1.08      78992.15  1132.00   71976.41   \n",
       "4           4 2015-11-29          1.28      51039.60   941.48   43838.39   \n",
       "\n",
       "     4770  Total Bags  Small Bags  Large Bags  XLarge Bags          type  \\\n",
       "0   48.16     8696.87     8603.62       93.25          0.0  conventional   \n",
       "1   58.33     9505.56     9408.07       97.49          0.0  conventional   \n",
       "2  130.50     8145.35     8042.21      103.14          0.0  conventional   \n",
       "3   72.58     5811.16     5677.40      133.76          0.0  conventional   \n",
       "4   75.78     6183.95     5986.26      197.69          0.0  conventional   \n",
       "\n",
       "   year  region  \n",
       "0  2015  Albany  \n",
       "1  2015  Albany  \n",
       "2  2015  Albany  \n",
       "3  2015  Albany  \n",
       "4  2015  Albany  "
      ]
     },
     "execution_count": 3,
     "metadata": {},
     "output_type": "execute_result"
    }
   ],
   "source": [
    "df_avocado.head()"
   ]
  },
  {
   "cell_type": "code",
   "execution_count": 4,
   "metadata": {
    "colab": {
     "base_uri": "https://localhost:8080/"
    },
    "id": "nJltkuWLZVsf",
    "outputId": "195a21d1-c982-464e-cd31-77caa313942a"
   },
   "outputs": [
    {
     "name": "stdout",
     "output_type": "stream",
     "text": [
      "<class 'pandas.core.frame.DataFrame'>\n",
      "RangeIndex: 18249 entries, 0 to 18248\n",
      "Data columns (total 14 columns):\n",
      " #   Column        Non-Null Count  Dtype         \n",
      "---  ------        --------------  -----         \n",
      " 0   Unnamed: 0    18249 non-null  int64         \n",
      " 1   Date          18249 non-null  datetime64[ns]\n",
      " 2   AveragePrice  18249 non-null  float64       \n",
      " 3   Total Volume  18249 non-null  float64       \n",
      " 4   4046          18249 non-null  float64       \n",
      " 5   4225          18249 non-null  float64       \n",
      " 6   4770          18249 non-null  float64       \n",
      " 7   Total Bags    18249 non-null  float64       \n",
      " 8   Small Bags    18249 non-null  float64       \n",
      " 9   Large Bags    18249 non-null  float64       \n",
      " 10  XLarge Bags   18249 non-null  float64       \n",
      " 11  type          18249 non-null  object        \n",
      " 12  year          18249 non-null  int64         \n",
      " 13  region        18249 non-null  object        \n",
      "dtypes: datetime64[ns](1), float64(9), int64(2), object(2)\n",
      "memory usage: 1.9+ MB\n"
     ]
    }
   ],
   "source": [
    "df_avocado.info()"
   ]
  },
  {
   "cell_type": "code",
   "execution_count": 5,
   "metadata": {
    "colab": {
     "base_uri": "https://localhost:8080/",
     "height": 300
    },
    "id": "9Wzm-EwCZoEA",
    "outputId": "6c1723c2-1b9d-4c01-d6ac-fdda2167e761"
   },
   "outputs": [
    {
     "data": {
      "text/html": [
       "<div>\n",
       "<style scoped>\n",
       "    .dataframe tbody tr th:only-of-type {\n",
       "        vertical-align: middle;\n",
       "    }\n",
       "\n",
       "    .dataframe tbody tr th {\n",
       "        vertical-align: top;\n",
       "    }\n",
       "\n",
       "    .dataframe thead th {\n",
       "        text-align: right;\n",
       "    }\n",
       "</style>\n",
       "<table border=\"1\" class=\"dataframe\">\n",
       "  <thead>\n",
       "    <tr style=\"text-align: right;\">\n",
       "      <th></th>\n",
       "      <th>Unnamed: 0</th>\n",
       "      <th>AveragePrice</th>\n",
       "      <th>Total Volume</th>\n",
       "      <th>4046</th>\n",
       "      <th>4225</th>\n",
       "      <th>4770</th>\n",
       "      <th>Total Bags</th>\n",
       "      <th>Small Bags</th>\n",
       "      <th>Large Bags</th>\n",
       "      <th>XLarge Bags</th>\n",
       "      <th>year</th>\n",
       "    </tr>\n",
       "  </thead>\n",
       "  <tbody>\n",
       "    <tr>\n",
       "      <th>count</th>\n",
       "      <td>18249.000000</td>\n",
       "      <td>18249.000000</td>\n",
       "      <td>1.824900e+04</td>\n",
       "      <td>1.824900e+04</td>\n",
       "      <td>1.824900e+04</td>\n",
       "      <td>1.824900e+04</td>\n",
       "      <td>1.824900e+04</td>\n",
       "      <td>1.824900e+04</td>\n",
       "      <td>1.824900e+04</td>\n",
       "      <td>18249.000000</td>\n",
       "      <td>18249.000000</td>\n",
       "    </tr>\n",
       "    <tr>\n",
       "      <th>mean</th>\n",
       "      <td>24.232232</td>\n",
       "      <td>1.405978</td>\n",
       "      <td>8.506440e+05</td>\n",
       "      <td>2.930084e+05</td>\n",
       "      <td>2.951546e+05</td>\n",
       "      <td>2.283974e+04</td>\n",
       "      <td>2.396392e+05</td>\n",
       "      <td>1.821947e+05</td>\n",
       "      <td>5.433809e+04</td>\n",
       "      <td>3106.426507</td>\n",
       "      <td>2016.147899</td>\n",
       "    </tr>\n",
       "    <tr>\n",
       "      <th>std</th>\n",
       "      <td>15.481045</td>\n",
       "      <td>0.402677</td>\n",
       "      <td>3.453545e+06</td>\n",
       "      <td>1.264989e+06</td>\n",
       "      <td>1.204120e+06</td>\n",
       "      <td>1.074641e+05</td>\n",
       "      <td>9.862424e+05</td>\n",
       "      <td>7.461785e+05</td>\n",
       "      <td>2.439660e+05</td>\n",
       "      <td>17692.894652</td>\n",
       "      <td>0.939938</td>\n",
       "    </tr>\n",
       "    <tr>\n",
       "      <th>min</th>\n",
       "      <td>0.000000</td>\n",
       "      <td>0.440000</td>\n",
       "      <td>8.456000e+01</td>\n",
       "      <td>0.000000e+00</td>\n",
       "      <td>0.000000e+00</td>\n",
       "      <td>0.000000e+00</td>\n",
       "      <td>0.000000e+00</td>\n",
       "      <td>0.000000e+00</td>\n",
       "      <td>0.000000e+00</td>\n",
       "      <td>0.000000</td>\n",
       "      <td>2015.000000</td>\n",
       "    </tr>\n",
       "    <tr>\n",
       "      <th>25%</th>\n",
       "      <td>10.000000</td>\n",
       "      <td>1.100000</td>\n",
       "      <td>1.083858e+04</td>\n",
       "      <td>8.540700e+02</td>\n",
       "      <td>3.008780e+03</td>\n",
       "      <td>0.000000e+00</td>\n",
       "      <td>5.088640e+03</td>\n",
       "      <td>2.849420e+03</td>\n",
       "      <td>1.274700e+02</td>\n",
       "      <td>0.000000</td>\n",
       "      <td>2015.000000</td>\n",
       "    </tr>\n",
       "    <tr>\n",
       "      <th>50%</th>\n",
       "      <td>24.000000</td>\n",
       "      <td>1.370000</td>\n",
       "      <td>1.073768e+05</td>\n",
       "      <td>8.645300e+03</td>\n",
       "      <td>2.906102e+04</td>\n",
       "      <td>1.849900e+02</td>\n",
       "      <td>3.974383e+04</td>\n",
       "      <td>2.636282e+04</td>\n",
       "      <td>2.647710e+03</td>\n",
       "      <td>0.000000</td>\n",
       "      <td>2016.000000</td>\n",
       "    </tr>\n",
       "    <tr>\n",
       "      <th>75%</th>\n",
       "      <td>38.000000</td>\n",
       "      <td>1.660000</td>\n",
       "      <td>4.329623e+05</td>\n",
       "      <td>1.110202e+05</td>\n",
       "      <td>1.502069e+05</td>\n",
       "      <td>6.243420e+03</td>\n",
       "      <td>1.107834e+05</td>\n",
       "      <td>8.333767e+04</td>\n",
       "      <td>2.202925e+04</td>\n",
       "      <td>132.500000</td>\n",
       "      <td>2017.000000</td>\n",
       "    </tr>\n",
       "    <tr>\n",
       "      <th>max</th>\n",
       "      <td>52.000000</td>\n",
       "      <td>3.250000</td>\n",
       "      <td>6.250565e+07</td>\n",
       "      <td>2.274362e+07</td>\n",
       "      <td>2.047057e+07</td>\n",
       "      <td>2.546439e+06</td>\n",
       "      <td>1.937313e+07</td>\n",
       "      <td>1.338459e+07</td>\n",
       "      <td>5.719097e+06</td>\n",
       "      <td>551693.650000</td>\n",
       "      <td>2018.000000</td>\n",
       "    </tr>\n",
       "  </tbody>\n",
       "</table>\n",
       "</div>"
      ],
      "text/plain": [
       "         Unnamed: 0  AveragePrice  Total Volume          4046          4225  \\\n",
       "count  18249.000000  18249.000000  1.824900e+04  1.824900e+04  1.824900e+04   \n",
       "mean      24.232232      1.405978  8.506440e+05  2.930084e+05  2.951546e+05   \n",
       "std       15.481045      0.402677  3.453545e+06  1.264989e+06  1.204120e+06   \n",
       "min        0.000000      0.440000  8.456000e+01  0.000000e+00  0.000000e+00   \n",
       "25%       10.000000      1.100000  1.083858e+04  8.540700e+02  3.008780e+03   \n",
       "50%       24.000000      1.370000  1.073768e+05  8.645300e+03  2.906102e+04   \n",
       "75%       38.000000      1.660000  4.329623e+05  1.110202e+05  1.502069e+05   \n",
       "max       52.000000      3.250000  6.250565e+07  2.274362e+07  2.047057e+07   \n",
       "\n",
       "               4770    Total Bags    Small Bags    Large Bags    XLarge Bags  \\\n",
       "count  1.824900e+04  1.824900e+04  1.824900e+04  1.824900e+04   18249.000000   \n",
       "mean   2.283974e+04  2.396392e+05  1.821947e+05  5.433809e+04    3106.426507   \n",
       "std    1.074641e+05  9.862424e+05  7.461785e+05  2.439660e+05   17692.894652   \n",
       "min    0.000000e+00  0.000000e+00  0.000000e+00  0.000000e+00       0.000000   \n",
       "25%    0.000000e+00  5.088640e+03  2.849420e+03  1.274700e+02       0.000000   \n",
       "50%    1.849900e+02  3.974383e+04  2.636282e+04  2.647710e+03       0.000000   \n",
       "75%    6.243420e+03  1.107834e+05  8.333767e+04  2.202925e+04     132.500000   \n",
       "max    2.546439e+06  1.937313e+07  1.338459e+07  5.719097e+06  551693.650000   \n",
       "\n",
       "               year  \n",
       "count  18249.000000  \n",
       "mean    2016.147899  \n",
       "std        0.939938  \n",
       "min     2015.000000  \n",
       "25%     2015.000000  \n",
       "50%     2016.000000  \n",
       "75%     2017.000000  \n",
       "max     2018.000000  "
      ]
     },
     "execution_count": 5,
     "metadata": {},
     "output_type": "execute_result"
    }
   ],
   "source": [
    "df_avocado.describe()"
   ]
  },
  {
   "cell_type": "code",
   "execution_count": 6,
   "metadata": {
    "colab": {
     "base_uri": "https://localhost:8080/"
    },
    "id": "cec__5vR8RSa",
    "outputId": "cf979f0c-fb31-4269-9839-b69ea6162e92"
   },
   "outputs": [
    {
     "data": {
      "text/plain": [
       "conventional    9126\n",
       "organic         9123\n",
       "Name: type, dtype: int64"
      ]
     },
     "execution_count": 6,
     "metadata": {},
     "output_type": "execute_result"
    }
   ],
   "source": [
    "df_avocado['type'].value_counts()"
   ]
  },
  {
   "cell_type": "code",
   "execution_count": 7,
   "metadata": {
    "colab": {
     "base_uri": "https://localhost:8080/",
     "height": 49
    },
    "id": "megK52uLc0eA",
    "outputId": "6b3f863f-5353-45fb-e12a-b7de3bc0f055"
   },
   "outputs": [
    {
     "data": {
      "text/html": [
       "<div>\n",
       "<style scoped>\n",
       "    .dataframe tbody tr th:only-of-type {\n",
       "        vertical-align: middle;\n",
       "    }\n",
       "\n",
       "    .dataframe tbody tr th {\n",
       "        vertical-align: top;\n",
       "    }\n",
       "\n",
       "    .dataframe thead th {\n",
       "        text-align: right;\n",
       "    }\n",
       "</style>\n",
       "<table border=\"1\" class=\"dataframe\">\n",
       "  <thead>\n",
       "    <tr style=\"text-align: right;\">\n",
       "      <th></th>\n",
       "      <th>Unnamed: 0</th>\n",
       "      <th>Date</th>\n",
       "      <th>AveragePrice</th>\n",
       "      <th>Total Volume</th>\n",
       "      <th>4046</th>\n",
       "      <th>4225</th>\n",
       "      <th>4770</th>\n",
       "      <th>Total Bags</th>\n",
       "      <th>Small Bags</th>\n",
       "      <th>Large Bags</th>\n",
       "      <th>XLarge Bags</th>\n",
       "      <th>type</th>\n",
       "      <th>year</th>\n",
       "      <th>region</th>\n",
       "    </tr>\n",
       "  </thead>\n",
       "  <tbody>\n",
       "    <tr>\n",
       "      <th>9593</th>\n",
       "      <td>51</td>\n",
       "      <td>2015-01-04</td>\n",
       "      <td>1.49</td>\n",
       "      <td>17723.17</td>\n",
       "      <td>1189.35</td>\n",
       "      <td>15628.27</td>\n",
       "      <td>0.0</td>\n",
       "      <td>905.55</td>\n",
       "      <td>905.55</td>\n",
       "      <td>0.0</td>\n",
       "      <td>0.0</td>\n",
       "      <td>organic</td>\n",
       "      <td>2015</td>\n",
       "      <td>Chicago</td>\n",
       "    </tr>\n",
       "    <tr>\n",
       "      <th>9592</th>\n",
       "      <td>50</td>\n",
       "      <td>2015-01-11</td>\n",
       "      <td>1.79</td>\n",
       "      <td>12915.74</td>\n",
       "      <td>1426.75</td>\n",
       "      <td>10900.10</td>\n",
       "      <td>0.0</td>\n",
       "      <td>588.89</td>\n",
       "      <td>588.89</td>\n",
       "      <td>0.0</td>\n",
       "      <td>0.0</td>\n",
       "      <td>organic</td>\n",
       "      <td>2015</td>\n",
       "      <td>Chicago</td>\n",
       "    </tr>\n",
       "    <tr>\n",
       "      <th>9591</th>\n",
       "      <td>49</td>\n",
       "      <td>2015-01-18</td>\n",
       "      <td>1.81</td>\n",
       "      <td>12499.87</td>\n",
       "      <td>1154.81</td>\n",
       "      <td>10830.61</td>\n",
       "      <td>0.0</td>\n",
       "      <td>514.45</td>\n",
       "      <td>514.45</td>\n",
       "      <td>0.0</td>\n",
       "      <td>0.0</td>\n",
       "      <td>organic</td>\n",
       "      <td>2015</td>\n",
       "      <td>Chicago</td>\n",
       "    </tr>\n",
       "    <tr>\n",
       "      <th>9590</th>\n",
       "      <td>48</td>\n",
       "      <td>2015-01-25</td>\n",
       "      <td>1.83</td>\n",
       "      <td>10951.51</td>\n",
       "      <td>711.63</td>\n",
       "      <td>9515.44</td>\n",
       "      <td>0.0</td>\n",
       "      <td>724.44</td>\n",
       "      <td>724.44</td>\n",
       "      <td>0.0</td>\n",
       "      <td>0.0</td>\n",
       "      <td>organic</td>\n",
       "      <td>2015</td>\n",
       "      <td>Chicago</td>\n",
       "    </tr>\n",
       "    <tr>\n",
       "      <th>9589</th>\n",
       "      <td>47</td>\n",
       "      <td>2015-02-01</td>\n",
       "      <td>1.52</td>\n",
       "      <td>14391.05</td>\n",
       "      <td>1363.35</td>\n",
       "      <td>11835.47</td>\n",
       "      <td>0.0</td>\n",
       "      <td>1192.23</td>\n",
       "      <td>1192.23</td>\n",
       "      <td>0.0</td>\n",
       "      <td>0.0</td>\n",
       "      <td>organic</td>\n",
       "      <td>2015</td>\n",
       "      <td>Chicago</td>\n",
       "    </tr>\n",
       "  </tbody>\n",
       "</table>\n",
       "</div>"
      ],
      "text/plain": [
       "      Unnamed: 0       Date  AveragePrice  Total Volume     4046      4225  \\\n",
       "9593          51 2015-01-04          1.49      17723.17  1189.35  15628.27   \n",
       "9592          50 2015-01-11          1.79      12915.74  1426.75  10900.10   \n",
       "9591          49 2015-01-18          1.81      12499.87  1154.81  10830.61   \n",
       "9590          48 2015-01-25          1.83      10951.51   711.63   9515.44   \n",
       "9589          47 2015-02-01          1.52      14391.05  1363.35  11835.47   \n",
       "\n",
       "      4770  Total Bags  Small Bags  Large Bags  XLarge Bags     type  year  \\\n",
       "9593   0.0      905.55      905.55         0.0          0.0  organic  2015   \n",
       "9592   0.0      588.89      588.89         0.0          0.0  organic  2015   \n",
       "9591   0.0      514.45      514.45         0.0          0.0  organic  2015   \n",
       "9590   0.0      724.44      724.44         0.0          0.0  organic  2015   \n",
       "9589   0.0     1192.23     1192.23         0.0          0.0  organic  2015   \n",
       "\n",
       "       region  \n",
       "9593  Chicago  \n",
       "9592  Chicago  \n",
       "9591  Chicago  \n",
       "9590  Chicago  \n",
       "9589  Chicago  "
      ]
     },
     "execution_count": 7,
     "metadata": {},
     "output_type": "execute_result"
    }
   ],
   "source": [
    "df_avocado_organic_chicago = df_avocado[\n",
    "    (df_avocado['type'] == 'organic')\n",
    "    & (df_avocado['region'] == 'Chicago')\n",
    "].sort_values(by='Date')\n",
    "\n",
    "df_avocado_organic_chicago.head()  "
   ]
  },
  {
   "cell_type": "code",
   "execution_count": 8,
   "metadata": {
    "colab": {
     "base_uri": "https://localhost:8080/",
     "height": 324
    },
    "id": "GxPw979QZqPO",
    "outputId": "fd8246c2-2a43-45e5-9e5c-1f8f66a8d2c1"
   },
   "outputs": [
    {
     "data": {
      "image/png": "[encoded data removed]",
      "text/plain": [
       "<Figure size 648x360 with 1 Axes>"
      ]
     },
     "metadata": {
      "needs_background": "light"
     },
     "output_type": "display_data"
    }
   ],
   "source": [
    "plt.figure(figsize=(9,5))\n",
    "sns.lineplot(x='Date', y='AveragePrice', data=df_avocado_organic_chicago)\n",
    "plt.axvline(pd.to_datetime('2015-01'), ls='--', color='grey')\n",
    "plt.axvline(pd.to_datetime('2016-01'), ls='--', color='grey')\n",
    "plt.axvline(pd.to_datetime('2017-01'), ls='--', color='grey')\n",
    "plt.axvline(pd.to_datetime('2018-01'), ls='--', color='grey');"
   ]
  },
  {
   "cell_type": "code",
   "execution_count": 9,
   "metadata": {
    "colab": {
     "base_uri": "https://localhost:8080/",
     "height": 238
    },
    "id": "5eRffD2qdihe",
    "outputId": "43ed2d26-4110-464c-9f27-6696839f64d8"
   },
   "outputs": [
    {
     "data": {
      "text/html": [
       "<div>\n",
       "<style scoped>\n",
       "    .dataframe tbody tr th:only-of-type {\n",
       "        vertical-align: middle;\n",
       "    }\n",
       "\n",
       "    .dataframe tbody tr th {\n",
       "        vertical-align: top;\n",
       "    }\n",
       "\n",
       "    .dataframe thead th {\n",
       "        text-align: right;\n",
       "    }\n",
       "</style>\n",
       "<table border=\"1\" class=\"dataframe\">\n",
       "  <thead>\n",
       "    <tr style=\"text-align: right;\">\n",
       "      <th></th>\n",
       "      <th>AveragePrice</th>\n",
       "    </tr>\n",
       "    <tr>\n",
       "      <th>Date</th>\n",
       "      <th></th>\n",
       "    </tr>\n",
       "  </thead>\n",
       "  <tbody>\n",
       "    <tr>\n",
       "      <th>2015-01-04</th>\n",
       "      <td>1.49</td>\n",
       "    </tr>\n",
       "    <tr>\n",
       "      <th>2015-01-11</th>\n",
       "      <td>1.79</td>\n",
       "    </tr>\n",
       "    <tr>\n",
       "      <th>2015-01-18</th>\n",
       "      <td>1.81</td>\n",
       "    </tr>\n",
       "    <tr>\n",
       "      <th>2015-01-25</th>\n",
       "      <td>1.83</td>\n",
       "    </tr>\n",
       "    <tr>\n",
       "      <th>2015-02-01</th>\n",
       "      <td>1.52</td>\n",
       "    </tr>\n",
       "  </tbody>\n",
       "</table>\n",
       "</div>"
      ],
      "text/plain": [
       "            AveragePrice\n",
       "Date                    \n",
       "2015-01-04          1.49\n",
       "2015-01-11          1.79\n",
       "2015-01-18          1.81\n",
       "2015-01-25          1.83\n",
       "2015-02-01          1.52"
      ]
     },
     "execution_count": 9,
     "metadata": {},
     "output_type": "execute_result"
    }
   ],
   "source": [
    "df_avocado_organic_chicago_simple = df_avocado_organic_chicago[['Date', 'AveragePrice']].set_index('Date')\n",
    "df_avocado_organic_chicago_simple.head()"
   ]
  },
  {
   "cell_type": "code",
   "execution_count": 10,
   "metadata": {
    "id": "vzQnAva3g476"
   },
   "outputs": [],
   "source": [
    "df_avocado_organic_chicago_simple['AveragePrice_lag1'] = df_avocado_organic_chicago_simple['AveragePrice'].shift(1)\n",
    "df_avocado_organic_chicago_simple['AveragePrice_diff1'] = df_avocado_organic_chicago_simple['AveragePrice'] - df_avocado_organic_chicago_simple['AveragePrice_lag1']"
   ]
  },
  {
   "cell_type": "code",
   "execution_count": 21,
   "metadata": {
    "colab": {
     "base_uri": "https://localhost:8080/",
     "height": 334
    },
    "id": "FFsV5ukPhnQN",
    "outputId": "50299b5b-39e6-4fe0-f736-6be6476fec20"
   },
   "outputs": [
    {
     "data": {
      "image/png": "[encoded data removed]",
      "text/plain": [
       "<Figure size 648x360 with 1 Axes>"
      ]
     },
     "metadata": {
      "needs_background": "light"
     },
     "output_type": "display_data"
    }
   ],
   "source": [
    "plt.figure(figsize=(9,5))\n",
    "sns.lineplot(x='Date', y='AveragePrice', data=df_avocado_organic_chicago_simple)\n",
    "plt.axvline(pd.to_datetime('2015-01'), ls='--', color='grey')\n",
    "plt.axvline(pd.to_datetime('2016-01'), ls='--', color='grey')\n",
    "plt.axvline(pd.to_datetime('2017-01'), ls='--', color='grey')\n",
    "plt.axvline(pd.to_datetime('2018-01'), ls='--', color='grey');"
   ]
  },
  {
   "cell_type": "code",
   "execution_count": 22,
   "metadata": {},
   "outputs": [
    {
     "data": {
      "image/png": "[encoded data removed]",
      "text/plain": [
       "<Figure size 648x360 with 1 Axes>"
      ]
     },
     "metadata": {
      "needs_background": "light"
     },
     "output_type": "display_data"
    }
   ],
   "source": [
    "plt.figure(figsize=(9,5))\n",
    "sns.lineplot(x='Date', y='AveragePrice_diff1', data=df_avocado_organic_chicago_simple)\n",
    "plt.axvline(pd.to_datetime('2015-01'), ls='--', color='grey')\n",
    "plt.axvline(pd.to_datetime('2016-01'), ls='--', color='grey')\n",
    "plt.axvline(pd.to_datetime('2017-01'), ls='--', color='grey')\n",
    "plt.axvline(pd.to_datetime('2018-01'), ls='--', color='grey');"
   ]
  },
  {
   "cell_type": "code",
   "execution_count": 12,
   "metadata": {
    "id": "nQ-oPwstiad0"
   },
   "outputs": [],
   "source": [
    "train_set = df_avocado_organic_chicago_simple[df_avocado_organic_chicago_simple.index.year < 2017]\n",
    "val_set = df_avocado_organic_chicago_simple[df_avocado_organic_chicago_simple.index.year == 2017]\n",
    "test_set = df_avocado_organic_chicago_simple[df_avocado_organic_chicago_simple.index.year > 2017]\n",
    "\n",
    "time_train, X_train = train_set.index.values, train_set['AveragePrice'].values\n",
    "time_val, X_val = val_set.index.values, val_set['AveragePrice'].values\n",
    "time_test, X_test = test_set.index.values, test_set['AveragePrice'].values"
   ]
  },
  {
   "cell_type": "code",
   "execution_count": 13,
   "metadata": {
    "colab": {
     "base_uri": "https://localhost:8080/"
    },
    "id": "BZqiN179jMll",
    "outputId": "3fa6066c-66cc-47e4-ee79-c50243c8b202"
   },
   "outputs": [
    {
     "name": "stdout",
     "output_type": "stream",
     "text": [
      "Metal device set to: Apple M1\n"
     ]
    },
    {
     "name": "stderr",
     "output_type": "stream",
     "text": [
      "2022-01-02 16:04:50.131595: I tensorflow/core/common_runtime/pluggable_device/pluggable_device_factory.cc:305] Could not identify NUMA node of platform GPU ID 0, defaulting to 0. Your kernel may not have been built with NUMA support.\n",
      "2022-01-02 16:04:50.131881: I tensorflow/core/common_runtime/pluggable_device/pluggable_device_factory.cc:271] Created TensorFlow device (/job:localhost/replica:0/task:0/device:GPU:0 with 0 MB memory) -> physical PluggableDevice (device: 0, name: METAL, pci bus id: <undefined>)\n"
     ]
    },
    {
     "data": {
      "text/plain": [
       "<PrefetchDataset shapes: ((None, None), (None,)), types: (tf.float64, tf.float64)>"
      ]
     },
     "execution_count": 13,
     "metadata": {},
     "output_type": "execute_result"
    }
   ],
   "source": [
    "window_size = 20 \n",
    "batch_size = 32\n",
    "shuffle_buffer_size = 1000\n",
    "\n",
    "dataset = tf.data.Dataset.from_tensor_slices(X_train)\n",
    "dataset = dataset.window(window_size + 1, shift=1, drop_remainder=True)\n",
    "dataset = dataset.flat_map(lambda window: window.batch(window_size + 1))\n",
    "dataset = dataset.shuffle(shuffle_buffer_size).map(lambda window: (window[:-1], window[-1]))\n",
    "dataset = dataset.batch(batch_size).prefetch(1)\n",
    "dataset"
   ]
  },
  {
   "cell_type": "code",
   "execution_count": 14,
   "metadata": {
    "colab": {
     "base_uri": "https://localhost:8080/"
    },
    "id": "7weGoomh-53G",
    "outputId": "4860b3a4-e62e-4b50-c3ec-a96758b1f0dc"
   },
   "outputs": [
    {
     "name": "stdout",
     "output_type": "stream",
     "text": [
      "Model: \"sequential\"\n",
      "_________________________________________________________________\n",
      "Layer (type)                 Output Shape              Param #   \n",
      "=================================================================\n",
      "lambda (Lambda)              (None, None, 1)           0         \n",
      "_________________________________________________________________\n",
      "bidirectional (Bidirectional (None, None, 64)          8704      \n",
      "_________________________________________________________________\n",
      "bidirectional_1 (Bidirection (None, 64)                24832     \n",
      "_________________________________________________________________\n",
      "dense (Dense)                (None, 1)                 65        \n",
      "=================================================================\n",
      "Total params: 33,601\n",
      "Trainable params: 33,601\n",
      "Non-trainable params: 0\n",
      "_________________________________________________________________\n"
     ]
    }
   ],
   "source": [
    "model = tf.keras.models.Sequential([\n",
    "  tf.keras.layers.Lambda(lambda x: tf.expand_dims(x, axis=-1), input_shape=[None]),\n",
    "  tf.keras.layers.Bidirectional(tf.keras.layers.LSTM(32, return_sequences=True)),\n",
    "  tf.keras.layers.Bidirectional(tf.keras.layers.LSTM(32)),\n",
    "  tf.keras.layers.Dense(1),\n",
    "])\n",
    "\n",
    "model.summary()"
   ]
  },
  {
   "cell_type": "code",
   "execution_count": 15,
   "metadata": {
    "colab": {
     "base_uri": "https://localhost:8080/"
    },
    "collapsed": true,
    "id": "GBrIwng7CpT9",
    "jupyter": {
     "outputs_hidden": true
    },
    "outputId": "c0fead96-ea7f-4336-b30e-edd32156cf66",
    "tags": []
   },
   "outputs": [
    {
     "name": "stderr",
     "output_type": "stream",
     "text": [
      "2022-01-02 16:13:27.690620: I tensorflow/compiler/mlir/mlir_graph_optimization_pass.cc:185] None of the MLIR Optimization Passes are enabled (registered 2)\n",
      "2022-01-02 16:13:27.691145: W tensorflow/core/platform/profile_utils/cpu_utils.cc:128] Failed to get CPU frequency: 0 Hz\n"
     ]
    },
    {
     "name": "stdout",
     "output_type": "stream",
     "text": [
      "Epoch 1/100\n"
     ]
    },
    {
     "name": "stderr",
     "output_type": "stream",
     "text": [
      "2022-01-02 16:13:29.025174: I tensorflow/core/grappler/optimizers/custom_graph_optimizer_registry.cc:112] Plugin optimizer for device_type GPU is enabled.\n",
      "2022-01-02 16:13:29.303058: I tensorflow/core/grappler/optimizers/custom_graph_optimizer_registry.cc:112] Plugin optimizer for device_type GPU is enabled.\n",
      "2022-01-02 16:13:29.316116: I tensorflow/core/grappler/optimizers/custom_graph_optimizer_registry.cc:112] Plugin optimizer for device_type GPU is enabled.\n",
      "2022-01-02 16:13:29.907358: I tensorflow/core/grappler/optimizers/custom_graph_optimizer_registry.cc:112] Plugin optimizer for device_type GPU is enabled.\n",
      "2022-01-02 16:13:29.920696: I tensorflow/core/grappler/optimizers/custom_graph_optimizer_registry.cc:112] Plugin optimizer for device_type GPU is enabled.\n",
      "2022-01-02 16:13:30.094705: I tensorflow/core/grappler/optimizers/custom_graph_optimizer_registry.cc:112] Plugin optimizer for device_type GPU is enabled.\n",
      "2022-01-02 16:13:30.115479: I tensorflow/core/grappler/optimizers/custom_graph_optimizer_registry.cc:112] Plugin optimizer for device_type GPU is enabled.\n"
     ]
    },
    {
     "name": "stdout",
     "output_type": "stream",
     "text": [
      "      1/Unknown - 3s 3s/step - loss: 1.2331 - mae: 1.7331"
     ]
    },
    {
     "name": "stderr",
     "output_type": "stream",
     "text": [
      "2022-01-02 16:13:30.892068: I tensorflow/core/grappler/optimizers/custom_graph_optimizer_registry.cc:112] Plugin optimizer for device_type GPU is enabled.\n",
      "2022-01-02 16:13:30.912369: I tensorflow/core/grappler/optimizers/custom_graph_optimizer_registry.cc:112] Plugin optimizer for device_type GPU is enabled.\n"
     ]
    },
    {
     "name": "stdout",
     "output_type": "stream",
     "text": [
      "3/3 [==============================] - 4s 248ms/step - loss: 1.1970 - mae: 1.6970\n",
      "Epoch 2/100\n",
      "3/3 [==============================] - 0s 92ms/step - loss: 1.0976 - mae: 1.5976\n",
      "Epoch 3/100\n",
      "3/3 [==============================] - 0s 90ms/step - loss: 0.9987 - mae: 1.4986\n",
      "Epoch 4/100\n",
      "3/3 [==============================] - 0s 87ms/step - loss: 0.8996 - mae: 1.3990\n",
      "Epoch 5/100\n",
      "3/3 [==============================] - 0s 92ms/step - loss: 0.8010 - mae: 1.2998\n",
      "Epoch 6/100\n",
      "3/3 [==============================] - 0s 87ms/step - loss: 0.7029 - mae: 1.1998\n",
      "Epoch 7/100\n",
      "3/3 [==============================] - 0s 88ms/step - loss: 0.6062 - mae: 1.1002\n",
      "Epoch 8/100\n",
      "3/3 [==============================] - 0s 86ms/step - loss: 0.5158 - mae: 1.0028\n",
      "Epoch 9/100\n",
      "3/3 [==============================] - 0s 87ms/step - loss: 0.4354 - mae: 0.9097\n",
      "Epoch 10/100\n",
      "3/3 [==============================] - 0s 84ms/step - loss: 0.3648 - mae: 0.8225\n",
      "Epoch 11/100\n",
      "3/3 [==============================] - 0s 85ms/step - loss: 0.3026 - mae: 0.7384\n",
      "Epoch 12/100\n",
      "3/3 [==============================] - 0s 86ms/step - loss: 0.2502 - mae: 0.6625\n",
      "Epoch 13/100\n",
      "3/3 [==============================] - 0s 90ms/step - loss: 0.2062 - mae: 0.5907\n",
      "Epoch 14/100\n",
      "3/3 [==============================] - 0s 87ms/step - loss: 0.1695 - mae: 0.5275\n",
      "Epoch 15/100\n",
      "3/3 [==============================] - 0s 88ms/step - loss: 0.1401 - mae: 0.4706\n",
      "Epoch 16/100\n",
      "3/3 [==============================] - 0s 88ms/step - loss: 0.1160 - mae: 0.4228\n",
      "Epoch 17/100\n",
      "3/3 [==============================] - 0s 86ms/step - loss: 0.0975 - mae: 0.3822\n",
      "Epoch 18/100\n",
      "3/3 [==============================] - 0s 86ms/step - loss: 0.0827 - mae: 0.3453\n",
      "Epoch 19/100\n",
      "3/3 [==============================] - 0s 87ms/step - loss: 0.0708 - mae: 0.3115\n",
      "Epoch 20/100\n",
      "3/3 [==============================] - 0s 89ms/step - loss: 0.0618 - mae: 0.2842\n",
      "Epoch 21/100\n",
      "3/3 [==============================] - 0s 87ms/step - loss: 0.0549 - mae: 0.2591\n",
      "Epoch 22/100\n",
      "3/3 [==============================] - 0s 85ms/step - loss: 0.0493 - mae: 0.2360\n",
      "Epoch 23/100\n",
      "3/3 [==============================] - 0s 85ms/step - loss: 0.0448 - mae: 0.2182\n",
      "Epoch 24/100\n",
      "3/3 [==============================] - 0s 82ms/step - loss: 0.0415 - mae: 0.2027\n",
      "Epoch 25/100\n",
      "3/3 [==============================] - 0s 85ms/step - loss: 0.0387 - mae: 0.1927\n",
      "Epoch 26/100\n",
      "3/3 [==============================] - 0s 86ms/step - loss: 0.0366 - mae: 0.1863\n",
      "Epoch 27/100\n",
      "3/3 [==============================] - 0s 87ms/step - loss: 0.0350 - mae: 0.1826\n",
      "Epoch 28/100\n",
      "3/3 [==============================] - 0s 87ms/step - loss: 0.0339 - mae: 0.1801\n",
      "Epoch 29/100\n",
      "3/3 [==============================] - 0s 87ms/step - loss: 0.0330 - mae: 0.1812\n",
      "Epoch 30/100\n",
      "3/3 [==============================] - 0s 85ms/step - loss: 0.0321 - mae: 0.1824\n",
      "Epoch 31/100\n",
      "3/3 [==============================] - 0s 89ms/step - loss: 0.0316 - mae: 0.1840\n",
      "Epoch 32/100\n",
      "3/3 [==============================] - 0s 88ms/step - loss: 0.0312 - mae: 0.1859\n",
      "Epoch 33/100\n",
      "3/3 [==============================] - 0s 86ms/step - loss: 0.0309 - mae: 0.1886\n",
      "Epoch 34/100\n",
      "3/3 [==============================] - 0s 89ms/step - loss: 0.0307 - mae: 0.1894\n",
      "Epoch 35/100\n",
      "3/3 [==============================] - 0s 88ms/step - loss: 0.0305 - mae: 0.1906\n",
      "Epoch 36/100\n",
      "3/3 [==============================] - 0s 89ms/step - loss: 0.0303 - mae: 0.1911\n",
      "Epoch 37/100\n",
      "3/3 [==============================] - 0s 88ms/step - loss: 0.0303 - mae: 0.1917\n",
      "Epoch 38/100\n",
      "3/3 [==============================] - 0s 89ms/step - loss: 0.0303 - mae: 0.1920\n",
      "Epoch 39/100\n",
      "3/3 [==============================] - 0s 84ms/step - loss: 0.0302 - mae: 0.1934\n",
      "Epoch 40/100\n",
      "3/3 [==============================] - 0s 86ms/step - loss: 0.0300 - mae: 0.1943\n",
      "Epoch 41/100\n",
      "3/3 [==============================] - 0s 88ms/step - loss: 0.0300 - mae: 0.1957\n",
      "Epoch 42/100\n",
      "3/3 [==============================] - 0s 85ms/step - loss: 0.0300 - mae: 0.1957\n",
      "Epoch 43/100\n",
      "3/3 [==============================] - 0s 88ms/step - loss: 0.0299 - mae: 0.1961\n",
      "Epoch 44/100\n",
      "3/3 [==============================] - 0s 84ms/step - loss: 0.0300 - mae: 0.1969\n",
      "Epoch 45/100\n",
      "3/3 [==============================] - 0s 88ms/step - loss: 0.0299 - mae: 0.1964\n",
      "Epoch 46/100\n",
      "3/3 [==============================] - 0s 87ms/step - loss: 0.0299 - mae: 0.1970\n",
      "Epoch 47/100\n",
      "3/3 [==============================] - 0s 88ms/step - loss: 0.0300 - mae: 0.1978\n",
      "Epoch 48/100\n",
      "3/3 [==============================] - 0s 87ms/step - loss: 0.0299 - mae: 0.1974\n",
      "Epoch 49/100\n",
      "3/3 [==============================] - 0s 87ms/step - loss: 0.0299 - mae: 0.1982\n",
      "Epoch 50/100\n",
      "3/3 [==============================] - 0s 86ms/step - loss: 0.0298 - mae: 0.1977\n",
      "Epoch 51/100\n",
      "3/3 [==============================] - 0s 84ms/step - loss: 0.0299 - mae: 0.1978\n",
      "Epoch 52/100\n",
      "3/3 [==============================] - 0s 87ms/step - loss: 0.0298 - mae: 0.1988\n",
      "Epoch 53/100\n",
      "3/3 [==============================] - 0s 84ms/step - loss: 0.0298 - mae: 0.1982\n",
      "Epoch 54/100\n",
      "3/3 [==============================] - 0s 86ms/step - loss: 0.0298 - mae: 0.1991\n",
      "Epoch 55/100\n",
      "3/3 [==============================] - 0s 93ms/step - loss: 0.0298 - mae: 0.1984\n",
      "Epoch 56/100\n",
      "3/3 [==============================] - 0s 87ms/step - loss: 0.0298 - mae: 0.1984\n",
      "Epoch 57/100\n",
      "3/3 [==============================] - 0s 86ms/step - loss: 0.0298 - mae: 0.1984\n",
      "Epoch 58/100\n",
      "3/3 [==============================] - 0s 85ms/step - loss: 0.0298 - mae: 0.1997\n",
      "Epoch 59/100\n",
      "3/3 [==============================] - 0s 86ms/step - loss: 0.0298 - mae: 0.1995\n",
      "Epoch 60/100\n",
      "3/3 [==============================] - 0s 87ms/step - loss: 0.0298 - mae: 0.1991\n",
      "Epoch 61/100\n",
      "3/3 [==============================] - 0s 89ms/step - loss: 0.0298 - mae: 0.1992\n",
      "Epoch 62/100\n",
      "3/3 [==============================] - 0s 91ms/step - loss: 0.0298 - mae: 0.1988\n",
      "Epoch 63/100\n",
      "3/3 [==============================] - 0s 87ms/step - loss: 0.0298 - mae: 0.1987\n",
      "Epoch 64/100\n",
      "3/3 [==============================] - 0s 80ms/step - loss: 0.0298 - mae: 0.1991\n",
      "Epoch 65/100\n",
      "3/3 [==============================] - 0s 91ms/step - loss: 0.0298 - mae: 0.1992\n",
      "Epoch 66/100\n",
      "3/3 [==============================] - 0s 88ms/step - loss: 0.0298 - mae: 0.1983\n",
      "Epoch 67/100\n",
      "3/3 [==============================] - 0s 86ms/step - loss: 0.0297 - mae: 0.1982\n",
      "Epoch 68/100\n",
      "3/3 [==============================] - 0s 88ms/step - loss: 0.0297 - mae: 0.1983\n",
      "Epoch 69/100\n",
      "3/3 [==============================] - 0s 86ms/step - loss: 0.0297 - mae: 0.1989\n",
      "Epoch 70/100\n",
      "3/3 [==============================] - 0s 86ms/step - loss: 0.0297 - mae: 0.1987\n",
      "Epoch 71/100\n",
      "3/3 [==============================] - 0s 87ms/step - loss: 0.0298 - mae: 0.1982\n",
      "Epoch 72/100\n",
      "3/3 [==============================] - 0s 86ms/step - loss: 0.0298 - mae: 0.1991\n",
      "Epoch 73/100\n",
      "3/3 [==============================] - 0s 87ms/step - loss: 0.0297 - mae: 0.1983\n",
      "Epoch 74/100\n",
      "3/3 [==============================] - 0s 87ms/step - loss: 0.0297 - mae: 0.1983\n",
      "Epoch 75/100\n",
      "3/3 [==============================] - 0s 88ms/step - loss: 0.0298 - mae: 0.1985\n",
      "Epoch 76/100\n",
      "3/3 [==============================] - 0s 88ms/step - loss: 0.0297 - mae: 0.1987\n",
      "Epoch 77/100\n",
      "3/3 [==============================] - 0s 83ms/step - loss: 0.0297 - mae: 0.1987\n",
      "Epoch 78/100\n",
      "3/3 [==============================] - 0s 87ms/step - loss: 0.0297 - mae: 0.1996\n",
      "Epoch 79/100\n",
      "3/3 [==============================] - 0s 87ms/step - loss: 0.0297 - mae: 0.1983\n",
      "Epoch 80/100\n",
      "3/3 [==============================] - 0s 88ms/step - loss: 0.0297 - mae: 0.1983\n",
      "Epoch 81/100\n",
      "3/3 [==============================] - 0s 81ms/step - loss: 0.0297 - mae: 0.1982\n",
      "Epoch 82/100\n",
      "3/3 [==============================] - 0s 86ms/step - loss: 0.0297 - mae: 0.1982\n",
      "Epoch 83/100\n",
      "3/3 [==============================] - 0s 86ms/step - loss: 0.0296 - mae: 0.1979\n",
      "Epoch 84/100\n",
      "3/3 [==============================] - 0s 88ms/step - loss: 0.0296 - mae: 0.1979\n",
      "Epoch 85/100\n",
      "3/3 [==============================] - 0s 87ms/step - loss: 0.0297 - mae: 0.1982\n",
      "Epoch 86/100\n",
      "3/3 [==============================] - 0s 86ms/step - loss: 0.0297 - mae: 0.1983\n",
      "Epoch 87/100\n",
      "3/3 [==============================] - 0s 90ms/step - loss: 0.0297 - mae: 0.1985\n",
      "Epoch 88/100\n",
      "3/3 [==============================] - 0s 89ms/step - loss: 0.0296 - mae: 0.1986\n",
      "Epoch 89/100\n",
      "3/3 [==============================] - 0s 88ms/step - loss: 0.0296 - mae: 0.1978\n",
      "Epoch 90/100\n",
      "3/3 [==============================] - 0s 88ms/step - loss: 0.0296 - mae: 0.1975\n",
      "Epoch 91/100\n",
      "3/3 [==============================] - 0s 87ms/step - loss: 0.0296 - mae: 0.1972\n",
      "Epoch 92/100\n",
      "3/3 [==============================] - 0s 85ms/step - loss: 0.0296 - mae: 0.1973\n",
      "Epoch 93/100\n",
      "3/3 [==============================] - 0s 83ms/step - loss: 0.0296 - mae: 0.1969\n",
      "Epoch 94/100\n",
      "3/3 [==============================] - 0s 89ms/step - loss: 0.0297 - mae: 0.1979\n",
      "Epoch 95/100\n",
      "3/3 [==============================] - 0s 83ms/step - loss: 0.0296 - mae: 0.1970\n",
      "Epoch 96/100\n",
      "3/3 [==============================] - 0s 85ms/step - loss: 0.0296 - mae: 0.1973\n",
      "Epoch 97/100\n",
      "3/3 [==============================] - 0s 88ms/step - loss: 0.0296 - mae: 0.1972\n",
      "Epoch 98/100\n",
      "3/3 [==============================] - 0s 87ms/step - loss: 0.0296 - mae: 0.1973\n",
      "Epoch 99/100\n",
      "3/3 [==============================] - 0s 87ms/step - loss: 0.0296 - mae: 0.1976\n",
      "Epoch 100/100\n",
      "3/3 [==============================] - 0s 86ms/step - loss: 0.0296 - mae: 0.1979\n"
     ]
    }
   ],
   "source": [
    "model.compile(\n",
    "    loss=tf.keras.losses.Huber(),\n",
    "     optimizer='sgd', metrics=['mae'])\n",
    "history = model.fit(\n",
    "    dataset, epochs=100\n",
    ")"
   ]
  },
  {
   "cell_type": "code",
   "execution_count": 16,
   "metadata": {
    "id": "_sp-CpCJD417"
   },
   "outputs": [
    {
     "name": "stderr",
     "output_type": "stream",
     "text": [
      "2022-01-02 16:14:02.879420: I tensorflow/core/grappler/optimizers/custom_graph_optimizer_registry.cc:112] Plugin optimizer for device_type GPU is enabled.\n",
      "2022-01-02 16:14:02.968741: I tensorflow/core/grappler/optimizers/custom_graph_optimizer_registry.cc:112] Plugin optimizer for device_type GPU is enabled.\n",
      "2022-01-02 16:14:02.980058: I tensorflow/core/grappler/optimizers/custom_graph_optimizer_registry.cc:112] Plugin optimizer for device_type GPU is enabled.\n",
      "2022-01-02 16:14:03.155552: I tensorflow/core/grappler/optimizers/custom_graph_optimizer_registry.cc:112] Plugin optimizer for device_type GPU is enabled.\n",
      "2022-01-02 16:14:03.168313: I tensorflow/core/grappler/optimizers/custom_graph_optimizer_registry.cc:112] Plugin optimizer for device_type GPU is enabled.\n"
     ]
    }
   ],
   "source": [
    "forecast = []\n",
    "results = []\n",
    "\n",
    "for time in range(len(X_train) - window_size):\n",
    "  forecast.append(model.predict(X_train[time:time + window_size][np.newaxis]))\n",
    "\n",
    "# forecast = forecast[len(X_train) - window_size:]\n",
    "results = np.array(forecast)[:, 0, 0]\n",
    "\n"
   ]
  },
  {
   "cell_type": "code",
   "execution_count": 17,
   "metadata": {
    "colab": {
     "base_uri": "https://localhost:8080/"
    },
    "id": "bhAJAWgxjV1K",
    "outputId": "967f2495-c2ee-4f5b-a7f2-961f873baa9f"
   },
   "outputs": [
    {
     "data": {
      "text/plain": [
       "84"
      ]
     },
     "execution_count": 17,
     "metadata": {},
     "output_type": "execute_result"
    }
   ],
   "source": [
    "len(forecast)"
   ]
  },
  {
   "cell_type": "code",
   "execution_count": null,
   "metadata": {
    "colab": {
     "base_uri": "https://localhost:8080/"
    },
    "id": "IVgYAmUUjOyv",
    "outputId": "70c73d52-1d79-42b5-8afc-95deb0425765"
   },
   "outputs": [
    {
     "data": {
      "text/plain": [
       "84"
      ]
     },
     "execution_count": 39,
     "metadata": {},
     "output_type": "execute_result"
    }
   ],
   "source": [
    "len(X_train) - window_size"
   ]
  },
  {
   "cell_type": "code",
   "execution_count": null,
   "metadata": {
    "colab": {
     "base_uri": "https://localhost:8080/"
    },
    "id": "uHd8FK2OjKDH",
    "outputId": "cd4def7c-c772-4396-ecec-190c4d77bd6e"
   },
   "outputs": [
    {
     "data": {
      "text/plain": [
       "array([1.7084548, 1.7170558, 1.7193263, 1.72148  , 1.723673 , 1.7317969,\n",
       "       1.7308658, 1.7283038, 1.7243865, 1.7199656, 1.7192144, 1.7170622,\n",
       "       1.7146652, 1.7125571, 1.7107689, 1.7174389, 1.7186284, 1.7210989,\n",
       "       1.7236475, 1.7287722, 1.7340282, 1.7311904, 1.7304771, 1.7259021,\n",
       "       1.7201546, 1.7148904, 1.7123501, 1.7096504, 1.707546 , 1.7057163,\n",
       "       1.7046882, 1.704242 , 1.7031873, 1.7031506, 1.7035446, 1.7020588,\n",
       "       1.7025371, 1.7029061, 1.7032949, 1.7015177, 1.6963661, 1.6942003,\n",
       "       1.6871262, 1.6843176, 1.6816523, 1.6792204, 1.6808248, 1.6834811,\n",
       "       1.6830237, 1.6842844, 1.6851275, 1.6863929, 1.6873667, 1.680697 ,\n",
       "       1.6666849, 1.6581221, 1.6545355, 1.6519052, 1.656494 , 1.655571 ,\n",
       "       1.6665586, 1.6745678, 1.6861714, 1.7006279, 1.7151896, 1.728595 ,\n",
       "       1.7373637, 1.7450948, 1.7550415, 1.7622716, 1.7692804, 1.7755556,\n",
       "       1.7820874, 1.7956996, 1.816509 , 1.8347863, 1.8471897, 1.8599778,\n",
       "       1.8674538, 1.8818672, 1.8861904, 1.884581 , 1.8741665, 1.8590378],\n",
       "      dtype=float32)"
      ]
     },
     "execution_count": 46,
     "metadata": {},
     "output_type": "execute_result"
    }
   ],
   "source": [
    "results"
   ]
  },
  {
   "cell_type": "code",
   "execution_count": null,
   "metadata": {
    "colab": {
     "base_uri": "https://localhost:8080/"
    },
    "id": "Lems1gQHh5Ls",
    "outputId": "b1fae846-7346-4a79-afb6-d8d0f9ce9550"
   },
   "outputs": [
    {
     "data": {
      "text/plain": [
       "array([[0.24699417],\n",
       "       [0.25839558],\n",
       "       [0.25913736],\n",
       "       [0.25987673],\n",
       "       [0.24815673],\n",
       "       [0.25802386],\n",
       "       [0.25913736],\n",
       "       [0.25987673],\n",
       "       [0.25950733],\n",
       "       [0.25199676],\n",
       "       [0.25275812],\n",
       "       [0.25389597],\n",
       "       [0.25351724],\n",
       "       [0.25313798],\n",
       "       [0.23952335],\n",
       "       [0.24931446],\n",
       "       [0.24776974],\n",
       "       [0.24776974],\n",
       "       [0.24621648],\n",
       "       [0.2500836 ]], dtype=float32)"
      ]
     },
     "execution_count": 27,
     "metadata": {},
     "output_type": "execute_result"
    }
   ],
   "source": [
    "model.predict(X_train[:20])"
   ]
  },
  {
   "cell_type": "code",
   "execution_count": null,
   "metadata": {
    "colab": {
     "base_uri": "https://localhost:8080/"
    },
    "id": "DtGD8vreirE1",
    "outputId": "b5fa836b-4ad6-4bac-cf02-cd787da711d8"
   },
   "outputs": [
    {
     "data": {
      "text/plain": [
       "array([[1.49, 1.79, 1.81, 1.83, 1.52, 1.78, 1.81, 1.83, 1.82, 1.62, 1.64,\n",
       "        1.67, 1.66, 1.65, 1.3 , 1.55, 1.51, 1.51, 1.47, 1.57]])"
      ]
     },
     "execution_count": 29,
     "metadata": {},
     "output_type": "execute_result"
    }
   ],
   "source": [
    "X_train[:20][np.newaxis]"
   ]
  },
  {
   "cell_type": "code",
   "execution_count": null,
   "metadata": {
    "colab": {
     "base_uri": "https://localhost:8080/"
    },
    "id": "QBXUeB3Ch0g5",
    "outputId": "b3210e61-8ffc-47c7-9f17-4a1cc04233ab"
   },
   "outputs": [
    {
     "data": {
      "text/plain": [
       "range(0, 84)"
      ]
     },
     "execution_count": 20,
     "metadata": {},
     "output_type": "execute_result"
    }
   ],
   "source": [
    "range(len(X_train) - window_size)"
   ]
  },
  {
   "cell_type": "code",
   "execution_count": null,
   "metadata": {
    "id": "9IdFaA8jj9Cx"
   },
   "outputs": [],
   "source": [
    "# def generate_time_series(batch_size, n_steps):\n",
    "#     freq1, freq2, offsets1, offsets2 = np.random.rand(4, batch_size, 1)\n",
    "#     time = np.linspace(0, 1, n_steps)\n",
    "#     series = 0.5 * np.sin((time - offsets1) * (freq1 * 10 + 10))  #   wave 1\n",
    "#     series += 0.2 * np.sin((time - offsets2) * (freq2 * 20 + 20)) # + wave 2\n",
    "#     series += 0.1 * (np.random.rand(batch_size, n_steps) - 0.5)   # + noise\n",
    "#     return series[..., np.newaxis].astype(np.float32)\n",
    "\n",
    "# n_steps = 50\n",
    "# series = generate_time_series(10000, n_steps + 1)\n",
    "# X_train, y_train = series[:7000, :n_steps], series[:7000, -1]\n",
    "# X_valid, y_valid = series[7000:9000, :n_steps], series[7000:9000, -1]\n",
    "# X_test, y_test = series[9000:, :n_steps], series[9000:, -1]"
   ]
  }
 ],
 "metadata": {
  "colab": {
   "collapsed_sections": [],
   "name": "Avocado Price (with RNN).ipynb",
   "provenance": []
  },
  "kernelspec": {
   "display_name": "Python 3.9 (tensorflow)",
   "language": "python",
   "name": "tensorflow"
  },
  "language_info": {
   "codemirror_mode": {
    "name": "ipython",
    "version": 3
   },
   "file_extension": ".py",
   "mimetype": "text/x-python",
   "name": "python",
   "nbconvert_exporter": "python",
   "pygments_lexer": "ipython3",
   "version": "3.9.7"
  }
 },
 "nbformat": 4,
 "nbformat_minor": 4
}
