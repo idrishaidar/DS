{
 "cells": [
  {
   "cell_type": "code",
   "execution_count": 1,
   "metadata": {},
   "outputs": [],
   "source": [
    "import pandas as pd\n",
    "import numpy as np\n",
    "import matplotlib.pyplot as plt\n",
    "import seaborn as sns"
   ]
  },
  {
   "cell_type": "code",
   "execution_count": 2,
   "metadata": {},
   "outputs": [
    {
     "data": {
      "text/html": [
       "<div>\n",
       "<style scoped>\n",
       "    .dataframe tbody tr th:only-of-type {\n",
       "        vertical-align: middle;\n",
       "    }\n",
       "\n",
       "    .dataframe tbody tr th {\n",
       "        vertical-align: top;\n",
       "    }\n",
       "\n",
       "    .dataframe thead th {\n",
       "        text-align: right;\n",
       "    }\n",
       "</style>\n",
       "<table border=\"1\" class=\"dataframe\">\n",
       "  <thead>\n",
       "    <tr style=\"text-align: right;\">\n",
       "      <th></th>\n",
       "      <th>InvoiceNo</th>\n",
       "      <th>StockCode</th>\n",
       "      <th>Description</th>\n",
       "      <th>Quantity</th>\n",
       "      <th>InvoiceDate</th>\n",
       "      <th>UnitPrice</th>\n",
       "      <th>CustomerID</th>\n",
       "      <th>Country</th>\n",
       "    </tr>\n",
       "  </thead>\n",
       "  <tbody>\n",
       "    <tr>\n",
       "      <th>0</th>\n",
       "      <td>536365</td>\n",
       "      <td>85123A</td>\n",
       "      <td>WHITE HANGING HEART T-LIGHT HOLDER</td>\n",
       "      <td>6</td>\n",
       "      <td>2010-12-01 08:26:00</td>\n",
       "      <td>2.55</td>\n",
       "      <td>17850.0</td>\n",
       "      <td>United Kingdom</td>\n",
       "    </tr>\n",
       "    <tr>\n",
       "      <th>1</th>\n",
       "      <td>536365</td>\n",
       "      <td>71053</td>\n",
       "      <td>WHITE METAL LANTERN</td>\n",
       "      <td>6</td>\n",
       "      <td>2010-12-01 08:26:00</td>\n",
       "      <td>3.39</td>\n",
       "      <td>17850.0</td>\n",
       "      <td>United Kingdom</td>\n",
       "    </tr>\n",
       "    <tr>\n",
       "      <th>2</th>\n",
       "      <td>536365</td>\n",
       "      <td>84406B</td>\n",
       "      <td>CREAM CUPID HEARTS COAT HANGER</td>\n",
       "      <td>8</td>\n",
       "      <td>2010-12-01 08:26:00</td>\n",
       "      <td>2.75</td>\n",
       "      <td>17850.0</td>\n",
       "      <td>United Kingdom</td>\n",
       "    </tr>\n",
       "    <tr>\n",
       "      <th>3</th>\n",
       "      <td>536365</td>\n",
       "      <td>84029G</td>\n",
       "      <td>KNITTED UNION FLAG HOT WATER BOTTLE</td>\n",
       "      <td>6</td>\n",
       "      <td>2010-12-01 08:26:00</td>\n",
       "      <td>3.39</td>\n",
       "      <td>17850.0</td>\n",
       "      <td>United Kingdom</td>\n",
       "    </tr>\n",
       "    <tr>\n",
       "      <th>4</th>\n",
       "      <td>536365</td>\n",
       "      <td>84029E</td>\n",
       "      <td>RED WOOLLY HOTTIE WHITE HEART.</td>\n",
       "      <td>6</td>\n",
       "      <td>2010-12-01 08:26:00</td>\n",
       "      <td>3.39</td>\n",
       "      <td>17850.0</td>\n",
       "      <td>United Kingdom</td>\n",
       "    </tr>\n",
       "  </tbody>\n",
       "</table>\n",
       "</div>"
      ],
      "text/plain": [
       "  InvoiceNo StockCode                          Description  Quantity  \\\n",
       "0    536365    85123A   WHITE HANGING HEART T-LIGHT HOLDER         6   \n",
       "1    536365     71053                  WHITE METAL LANTERN         6   \n",
       "2    536365    84406B       CREAM CUPID HEARTS COAT HANGER         8   \n",
       "3    536365    84029G  KNITTED UNION FLAG HOT WATER BOTTLE         6   \n",
       "4    536365    84029E       RED WOOLLY HOTTIE WHITE HEART.         6   \n",
       "\n",
       "          InvoiceDate  UnitPrice  CustomerID         Country  \n",
       "0 2010-12-01 08:26:00       2.55     17850.0  United Kingdom  \n",
       "1 2010-12-01 08:26:00       3.39     17850.0  United Kingdom  \n",
       "2 2010-12-01 08:26:00       2.75     17850.0  United Kingdom  \n",
       "3 2010-12-01 08:26:00       3.39     17850.0  United Kingdom  \n",
       "4 2010-12-01 08:26:00       3.39     17850.0  United Kingdom  "
      ]
     },
     "execution_count": 2,
     "metadata": {},
     "output_type": "execute_result"
    }
   ],
   "source": [
    "df_trx = pd.read_csv('datasets/ecommerce.csv', encoding='unicode_escape', parse_dates=['InvoiceDate'])\n",
    "df_trx.head()"
   ]
  },
  {
   "cell_type": "code",
   "execution_count": 3,
   "metadata": {},
   "outputs": [],
   "source": [
    "df_trx['InvoiceDateOnly'] = df_trx['InvoiceDate'].dt.date\n",
    "df_trx['InvoiceDay'] = df_trx['InvoiceDate'].dt.day_name()"
   ]
  },
  {
   "cell_type": "code",
   "execution_count": 4,
   "metadata": {},
   "outputs": [
    {
     "name": "stdout",
     "output_type": "stream",
     "text": [
      "<class 'pandas.core.frame.DataFrame'>\n",
      "RangeIndex: 541909 entries, 0 to 541908\n",
      "Data columns (total 10 columns):\n",
      " #   Column           Non-Null Count   Dtype         \n",
      "---  ------           --------------   -----         \n",
      " 0   InvoiceNo        541909 non-null  object        \n",
      " 1   StockCode        541909 non-null  object        \n",
      " 2   Description      540455 non-null  object        \n",
      " 3   Quantity         541909 non-null  int64         \n",
      " 4   InvoiceDate      541909 non-null  datetime64[ns]\n",
      " 5   UnitPrice        541909 non-null  float64       \n",
      " 6   CustomerID       406829 non-null  float64       \n",
      " 7   Country          541909 non-null  object        \n",
      " 8   InvoiceDateOnly  541909 non-null  object        \n",
      " 9   InvoiceDay       541909 non-null  object        \n",
      "dtypes: datetime64[ns](1), float64(2), int64(1), object(6)\n",
      "memory usage: 41.3+ MB\n"
     ]
    }
   ],
   "source": [
    "df_trx.info()"
   ]
  },
  {
   "cell_type": "code",
   "execution_count": 5,
   "metadata": {},
   "outputs": [
    {
     "data": {
      "image/png": "[encoded data removed]",
      "text/plain": [
       "<Figure size 648x360 with 1 Axes>"
      ]
     },
     "metadata": {
      "needs_background": "light"
     },
     "output_type": "display_data"
    }
   ],
   "source": [
    "plt.figure(figsize=(9,5))\n",
    "df_trx.groupby('InvoiceDateOnly')['InvoiceNo'].nunique().plot(kind='line');"
   ]
  },
  {
   "cell_type": "code",
   "execution_count": 6,
   "metadata": {},
   "outputs": [
    {
     "data": {
      "text/plain": [
       "<AxesSubplot:ylabel='Frequency'>"
      ]
     },
     "execution_count": 6,
     "metadata": {},
     "output_type": "execute_result"
    },
    {
     "data": {
      "image/png": "[encoded data removed]",
      "text/plain": [
       "<Figure size 432x288 with 1 Axes>"
      ]
     },
     "metadata": {
      "needs_background": "light"
     },
     "output_type": "display_data"
    }
   ],
   "source": [
    "df_trx.groupby('CustomerID')['InvoiceNo'].nunique().plot(kind='hist')"
   ]
  },
  {
   "cell_type": "code",
   "execution_count": 7,
   "metadata": {},
   "outputs": [
    {
     "data": {
      "text/plain": [
       "1     1313\n",
       "2      817\n",
       "3      490\n",
       "4      377\n",
       "5      288\n",
       "      ... \n",
       "60       1\n",
       "81       1\n",
       "50       1\n",
       "40       1\n",
       "62       1\n",
       "Name: InvoiceNo, Length: 65, dtype: int64"
      ]
     },
     "execution_count": 7,
     "metadata": {},
     "output_type": "execute_result"
    }
   ],
   "source": [
    "df_trx.groupby('CustomerID')['InvoiceNo'].nunique().value_counts()"
   ]
  },
  {
   "cell_type": "code",
   "execution_count": 8,
   "metadata": {},
   "outputs": [
    {
     "data": {
      "text/plain": [
       "<AxesSubplot:xlabel='InvoiceDay', ylabel='InvoiceNo'>"
      ]
     },
     "execution_count": 8,
     "metadata": {},
     "output_type": "execute_result"
    },
    {
     "data": {
      "image/png": "[encoded data removed]",
      "text/plain": [
       "<Figure size 432x288 with 1 Axes>"
      ]
     },
     "metadata": {
      "needs_background": "light"
     },
     "output_type": "display_data"
    }
   ],
   "source": [
    "df_trx_unique_daily = df_trx[['InvoiceDateOnly', 'InvoiceDay', 'InvoiceNo']].drop_duplicates()\n",
    "sns.barplot(\n",
    "    x='InvoiceDay',\n",
    "    y='InvoiceNo',\n",
    "    data=df_trx_unique_daily.groupby(\n",
    "        ['InvoiceDateOnly', 'InvoiceDay']\n",
    "    )['InvoiceNo'].count().reset_index()\n",
    ")"
   ]
  },
  {
   "cell_type": "code",
   "execution_count": 9,
   "metadata": {},
   "outputs": [
    {
     "data": {
      "text/plain": [
       "0         373\n",
       "1         373\n",
       "2         373\n",
       "3         373\n",
       "4         373\n",
       "         ... \n",
       "541904      0\n",
       "541905      0\n",
       "541906      0\n",
       "541907      0\n",
       "541908      0\n",
       "Name: InvoiceDateOnly, Length: 541909, dtype: int64"
      ]
     },
     "execution_count": 9,
     "metadata": {},
     "output_type": "execute_result"
    }
   ],
   "source": [
    "latest_date = df_trx['InvoiceDateOnly'].max()\n",
    "# df_trx['DaysSinceInvoiceDate'] = \n",
    "(latest_date - df_trx['InvoiceDateOnly']).dt.days"
   ]
  },
  {
   "cell_type": "code",
   "execution_count": 118,
   "metadata": {},
   "outputs": [
    {
     "data": {
      "text/plain": [
       "United Kingdom          495478\n",
       "Germany                   9495\n",
       "France                    8557\n",
       "EIRE                      8196\n",
       "Spain                     2533\n",
       "Netherlands               2371\n",
       "Belgium                   2069\n",
       "Switzerland               2002\n",
       "Portugal                  1519\n",
       "Australia                 1259\n",
       "Norway                    1086\n",
       "Italy                      803\n",
       "Channel Islands            758\n",
       "Finland                    695\n",
       "Cyprus                     622\n",
       "Sweden                     462\n",
       "Unspecified                446\n",
       "Austria                    401\n",
       "Denmark                    389\n",
       "Japan                      358\n",
       "Poland                     341\n",
       "Israel                     297\n",
       "USA                        291\n",
       "Hong Kong                  288\n",
       "Singapore                  229\n",
       "Iceland                    182\n",
       "Canada                     151\n",
       "Greece                     146\n",
       "Malta                      127\n",
       "United Arab Emirates        68\n",
       "European Community          61\n",
       "RSA                         58\n",
       "Lebanon                     45\n",
       "Lithuania                   35\n",
       "Brazil                      32\n",
       "Czech Republic              30\n",
       "Bahrain                     19\n",
       "Saudi Arabia                10\n",
       "Name: Country, dtype: int64"
      ]
     },
     "execution_count": 118,
     "metadata": {},
     "output_type": "execute_result"
    }
   ],
   "source": [
    "df_trx['Country'].value_counts()"
   ]
  },
  {
   "cell_type": "code",
   "execution_count": 11,
   "metadata": {},
   "outputs": [
    {
     "data": {
      "text/html": [
       "<div>\n",
       "<style scoped>\n",
       "    .dataframe tbody tr th:only-of-type {\n",
       "        vertical-align: middle;\n",
       "    }\n",
       "\n",
       "    .dataframe tbody tr th {\n",
       "        vertical-align: top;\n",
       "    }\n",
       "\n",
       "    .dataframe thead tr th {\n",
       "        text-align: left;\n",
       "    }\n",
       "</style>\n",
       "<table border=\"1\" class=\"dataframe\">\n",
       "  <thead>\n",
       "    <tr>\n",
       "      <th></th>\n",
       "      <th>CustomerID</th>\n",
       "      <th>Country</th>\n",
       "      <th>InvoiceNo</th>\n",
       "      <th colspan=\"2\" halign=\"left\">InvoiceDateOnly</th>\n",
       "    </tr>\n",
       "    <tr>\n",
       "      <th></th>\n",
       "      <th></th>\n",
       "      <th></th>\n",
       "      <th>nunique</th>\n",
       "      <th>max</th>\n",
       "      <th>min</th>\n",
       "    </tr>\n",
       "  </thead>\n",
       "  <tbody>\n",
       "    <tr>\n",
       "      <th>0</th>\n",
       "      <td>12346.0</td>\n",
       "      <td>United Kingdom</td>\n",
       "      <td>2</td>\n",
       "      <td>2011-01-18</td>\n",
       "      <td>2011-01-18</td>\n",
       "    </tr>\n",
       "    <tr>\n",
       "      <th>1</th>\n",
       "      <td>12347.0</td>\n",
       "      <td>Iceland</td>\n",
       "      <td>7</td>\n",
       "      <td>2011-12-07</td>\n",
       "      <td>2010-12-07</td>\n",
       "    </tr>\n",
       "    <tr>\n",
       "      <th>2</th>\n",
       "      <td>12348.0</td>\n",
       "      <td>Finland</td>\n",
       "      <td>4</td>\n",
       "      <td>2011-09-25</td>\n",
       "      <td>2010-12-16</td>\n",
       "    </tr>\n",
       "    <tr>\n",
       "      <th>3</th>\n",
       "      <td>12349.0</td>\n",
       "      <td>Italy</td>\n",
       "      <td>1</td>\n",
       "      <td>2011-11-21</td>\n",
       "      <td>2011-11-21</td>\n",
       "    </tr>\n",
       "    <tr>\n",
       "      <th>4</th>\n",
       "      <td>12350.0</td>\n",
       "      <td>Norway</td>\n",
       "      <td>1</td>\n",
       "      <td>2011-02-02</td>\n",
       "      <td>2011-02-02</td>\n",
       "    </tr>\n",
       "    <tr>\n",
       "      <th>...</th>\n",
       "      <td>...</td>\n",
       "      <td>...</td>\n",
       "      <td>...</td>\n",
       "      <td>...</td>\n",
       "      <td>...</td>\n",
       "    </tr>\n",
       "    <tr>\n",
       "      <th>4375</th>\n",
       "      <td>18280.0</td>\n",
       "      <td>United Kingdom</td>\n",
       "      <td>1</td>\n",
       "      <td>2011-03-07</td>\n",
       "      <td>2011-03-07</td>\n",
       "    </tr>\n",
       "    <tr>\n",
       "      <th>4376</th>\n",
       "      <td>18281.0</td>\n",
       "      <td>United Kingdom</td>\n",
       "      <td>1</td>\n",
       "      <td>2011-06-12</td>\n",
       "      <td>2011-06-12</td>\n",
       "    </tr>\n",
       "    <tr>\n",
       "      <th>4377</th>\n",
       "      <td>18282.0</td>\n",
       "      <td>United Kingdom</td>\n",
       "      <td>3</td>\n",
       "      <td>2011-12-02</td>\n",
       "      <td>2011-08-05</td>\n",
       "    </tr>\n",
       "    <tr>\n",
       "      <th>4378</th>\n",
       "      <td>18283.0</td>\n",
       "      <td>United Kingdom</td>\n",
       "      <td>16</td>\n",
       "      <td>2011-12-06</td>\n",
       "      <td>2011-01-06</td>\n",
       "    </tr>\n",
       "    <tr>\n",
       "      <th>4379</th>\n",
       "      <td>18287.0</td>\n",
       "      <td>United Kingdom</td>\n",
       "      <td>3</td>\n",
       "      <td>2011-10-28</td>\n",
       "      <td>2011-05-22</td>\n",
       "    </tr>\n",
       "  </tbody>\n",
       "</table>\n",
       "<p>4380 rows × 5 columns</p>\n",
       "</div>"
      ],
      "text/plain": [
       "     CustomerID         Country InvoiceNo InvoiceDateOnly            \n",
       "                                  nunique             max         min\n",
       "0       12346.0  United Kingdom         2      2011-01-18  2011-01-18\n",
       "1       12347.0         Iceland         7      2011-12-07  2010-12-07\n",
       "2       12348.0         Finland         4      2011-09-25  2010-12-16\n",
       "3       12349.0           Italy         1      2011-11-21  2011-11-21\n",
       "4       12350.0          Norway         1      2011-02-02  2011-02-02\n",
       "...         ...             ...       ...             ...         ...\n",
       "4375    18280.0  United Kingdom         1      2011-03-07  2011-03-07\n",
       "4376    18281.0  United Kingdom         1      2011-06-12  2011-06-12\n",
       "4377    18282.0  United Kingdom         3      2011-12-02  2011-08-05\n",
       "4378    18283.0  United Kingdom        16      2011-12-06  2011-01-06\n",
       "4379    18287.0  United Kingdom         3      2011-10-28  2011-05-22\n",
       "\n",
       "[4380 rows x 5 columns]"
      ]
     },
     "execution_count": 11,
     "metadata": {},
     "output_type": "execute_result"
    }
   ],
   "source": [
    "df_trx.groupby(\n",
    "    ['CustomerID', 'Country']\n",
    ").agg({'InvoiceNo': 'nunique', 'InvoiceDateOnly': ['max', 'min']}).reset_index()"
   ]
  },
  {
   "cell_type": "code",
   "execution_count": 12,
   "metadata": {},
   "outputs": [
    {
     "data": {
      "text/html": [
       "<div>\n",
       "<style scoped>\n",
       "    .dataframe tbody tr th:only-of-type {\n",
       "        vertical-align: middle;\n",
       "    }\n",
       "\n",
       "    .dataframe tbody tr th {\n",
       "        vertical-align: top;\n",
       "    }\n",
       "\n",
       "    .dataframe thead th {\n",
       "        text-align: right;\n",
       "    }\n",
       "</style>\n",
       "<table border=\"1\" class=\"dataframe\">\n",
       "  <thead>\n",
       "    <tr style=\"text-align: right;\">\n",
       "      <th></th>\n",
       "      <th>CustomerID</th>\n",
       "      <th>NumOfTrx</th>\n",
       "      <th>LastInvoiceDate</th>\n",
       "      <th>DaysSinceLastInvoice</th>\n",
       "      <th>FirstInvoiceDate</th>\n",
       "      <th>LastAndFirstInvoiceDiff</th>\n",
       "    </tr>\n",
       "  </thead>\n",
       "  <tbody>\n",
       "    <tr>\n",
       "      <th>0</th>\n",
       "      <td>12346.0</td>\n",
       "      <td>2</td>\n",
       "      <td>2011-01-18</td>\n",
       "      <td>325</td>\n",
       "      <td>2011-01-18</td>\n",
       "      <td>0</td>\n",
       "    </tr>\n",
       "    <tr>\n",
       "      <th>1</th>\n",
       "      <td>12747.0</td>\n",
       "      <td>11</td>\n",
       "      <td>2011-12-07</td>\n",
       "      <td>2</td>\n",
       "      <td>2010-12-05</td>\n",
       "      <td>367</td>\n",
       "    </tr>\n",
       "    <tr>\n",
       "      <th>2</th>\n",
       "      <td>12748.0</td>\n",
       "      <td>224</td>\n",
       "      <td>2011-12-09</td>\n",
       "      <td>0</td>\n",
       "      <td>2010-12-01</td>\n",
       "      <td>373</td>\n",
       "    </tr>\n",
       "    <tr>\n",
       "      <th>3</th>\n",
       "      <td>12749.0</td>\n",
       "      <td>8</td>\n",
       "      <td>2011-12-06</td>\n",
       "      <td>3</td>\n",
       "      <td>2011-05-10</td>\n",
       "      <td>210</td>\n",
       "    </tr>\n",
       "    <tr>\n",
       "      <th>4</th>\n",
       "      <td>12820.0</td>\n",
       "      <td>4</td>\n",
       "      <td>2011-12-06</td>\n",
       "      <td>3</td>\n",
       "      <td>2011-01-17</td>\n",
       "      <td>323</td>\n",
       "    </tr>\n",
       "    <tr>\n",
       "      <th>...</th>\n",
       "      <td>...</td>\n",
       "      <td>...</td>\n",
       "      <td>...</td>\n",
       "      <td>...</td>\n",
       "      <td>...</td>\n",
       "      <td>...</td>\n",
       "    </tr>\n",
       "    <tr>\n",
       "      <th>3945</th>\n",
       "      <td>18280.0</td>\n",
       "      <td>1</td>\n",
       "      <td>2011-03-07</td>\n",
       "      <td>277</td>\n",
       "      <td>2011-03-07</td>\n",
       "      <td>0</td>\n",
       "    </tr>\n",
       "    <tr>\n",
       "      <th>3946</th>\n",
       "      <td>18281.0</td>\n",
       "      <td>1</td>\n",
       "      <td>2011-06-12</td>\n",
       "      <td>180</td>\n",
       "      <td>2011-06-12</td>\n",
       "      <td>0</td>\n",
       "    </tr>\n",
       "    <tr>\n",
       "      <th>3947</th>\n",
       "      <td>18282.0</td>\n",
       "      <td>3</td>\n",
       "      <td>2011-12-02</td>\n",
       "      <td>7</td>\n",
       "      <td>2011-08-05</td>\n",
       "      <td>119</td>\n",
       "    </tr>\n",
       "    <tr>\n",
       "      <th>3948</th>\n",
       "      <td>18283.0</td>\n",
       "      <td>16</td>\n",
       "      <td>2011-12-06</td>\n",
       "      <td>3</td>\n",
       "      <td>2011-01-06</td>\n",
       "      <td>334</td>\n",
       "    </tr>\n",
       "    <tr>\n",
       "      <th>3949</th>\n",
       "      <td>18287.0</td>\n",
       "      <td>3</td>\n",
       "      <td>2011-10-28</td>\n",
       "      <td>42</td>\n",
       "      <td>2011-05-22</td>\n",
       "      <td>159</td>\n",
       "    </tr>\n",
       "  </tbody>\n",
       "</table>\n",
       "<p>3950 rows × 6 columns</p>\n",
       "</div>"
      ],
      "text/plain": [
       "      CustomerID  NumOfTrx LastInvoiceDate  DaysSinceLastInvoice  \\\n",
       "0        12346.0         2      2011-01-18                   325   \n",
       "1        12747.0        11      2011-12-07                     2   \n",
       "2        12748.0       224      2011-12-09                     0   \n",
       "3        12749.0         8      2011-12-06                     3   \n",
       "4        12820.0         4      2011-12-06                     3   \n",
       "...          ...       ...             ...                   ...   \n",
       "3945     18280.0         1      2011-03-07                   277   \n",
       "3946     18281.0         1      2011-06-12                   180   \n",
       "3947     18282.0         3      2011-12-02                     7   \n",
       "3948     18283.0        16      2011-12-06                     3   \n",
       "3949     18287.0         3      2011-10-28                    42   \n",
       "\n",
       "     FirstInvoiceDate  LastAndFirstInvoiceDiff  \n",
       "0          2011-01-18                        0  \n",
       "1          2010-12-05                      367  \n",
       "2          2010-12-01                      373  \n",
       "3          2011-05-10                      210  \n",
       "4          2011-01-17                      323  \n",
       "...               ...                      ...  \n",
       "3945       2011-03-07                        0  \n",
       "3946       2011-06-12                        0  \n",
       "3947       2011-08-05                      119  \n",
       "3948       2011-01-06                      334  \n",
       "3949       2011-05-22                      159  \n",
       "\n",
       "[3950 rows x 6 columns]"
      ]
     },
     "execution_count": 12,
     "metadata": {},
     "output_type": "execute_result"
    }
   ],
   "source": [
    "df_trx_uk = df_trx.query('Country == \"United Kingdom\"').copy()\n",
    "df_customers = df_trx_uk.groupby(\n",
    "    'CustomerID'\n",
    ").agg({'InvoiceNo': 'nunique', 'InvoiceDateOnly': 'max'}).reset_index(\n",
    ").rename(columns={'InvoiceDateOnly': 'LastInvoiceDate', 'InvoiceNo': 'NumOfTrx'})\n",
    "first_invoice_date = df_trx_uk.groupby('CustomerID')['InvoiceDateOnly'].min()\n",
    "df_customers['DaysSinceLastInvoice'] = (latest_date - df_customers['LastInvoiceDate']).dt.days\n",
    "df_customers['FirstInvoiceDate'] = first_invoice_date.values\n",
    "df_customers['LastAndFirstInvoiceDiff'] = (df_customers['LastInvoiceDate'] - df_customers['FirstInvoiceDate']).dt.days\n",
    "df_customers"
   ]
  },
  {
   "cell_type": "code",
   "execution_count": 13,
   "metadata": {},
   "outputs": [
    {
     "data": {
      "text/plain": [
       "<seaborn.axisgrid.FacetGrid at 0x29103836a48>"
      ]
     },
     "execution_count": 13,
     "metadata": {},
     "output_type": "execute_result"
    },
    {
     "data": {
      "image/png": "[encoded data removed]",
      "text/plain": [
       "<Figure size 360x360 with 1 Axes>"
      ]
     },
     "metadata": {
      "needs_background": "light"
     },
     "output_type": "display_data"
    }
   ],
   "source": [
    "sns.displot(data=df_customers, x='DaysSinceLastInvoice')"
   ]
  },
  {
   "cell_type": "code",
   "execution_count": 14,
   "metadata": {},
   "outputs": [
    {
     "data": {
      "text/html": [
       "<div>\n",
       "<style scoped>\n",
       "    .dataframe tbody tr th:only-of-type {\n",
       "        vertical-align: middle;\n",
       "    }\n",
       "\n",
       "    .dataframe tbody tr th {\n",
       "        vertical-align: top;\n",
       "    }\n",
       "\n",
       "    .dataframe thead th {\n",
       "        text-align: right;\n",
       "    }\n",
       "</style>\n",
       "<table border=\"1\" class=\"dataframe\">\n",
       "  <thead>\n",
       "    <tr style=\"text-align: right;\">\n",
       "      <th></th>\n",
       "      <th>CustomerID</th>\n",
       "      <th>NumOfTrx</th>\n",
       "      <th>LastInvoiceDate</th>\n",
       "      <th>DaysSinceLastInvoice</th>\n",
       "      <th>FirstInvoiceDate</th>\n",
       "      <th>LastAndFirstInvoiceDiff</th>\n",
       "    </tr>\n",
       "  </thead>\n",
       "  <tbody>\n",
       "    <tr>\n",
       "      <th>0</th>\n",
       "      <td>12346.0</td>\n",
       "      <td>2</td>\n",
       "      <td>2011-01-18</td>\n",
       "      <td>325</td>\n",
       "      <td>2011-01-18</td>\n",
       "      <td>0</td>\n",
       "    </tr>\n",
       "    <tr>\n",
       "      <th>5</th>\n",
       "      <td>12821.0</td>\n",
       "      <td>1</td>\n",
       "      <td>2011-05-09</td>\n",
       "      <td>214</td>\n",
       "      <td>2011-05-09</td>\n",
       "      <td>0</td>\n",
       "    </tr>\n",
       "    <tr>\n",
       "      <th>12</th>\n",
       "      <td>12829.0</td>\n",
       "      <td>3</td>\n",
       "      <td>2011-01-21</td>\n",
       "      <td>322</td>\n",
       "      <td>2010-12-14</td>\n",
       "      <td>38</td>\n",
       "    </tr>\n",
       "    <tr>\n",
       "      <th>14</th>\n",
       "      <td>12831.0</td>\n",
       "      <td>1</td>\n",
       "      <td>2011-03-22</td>\n",
       "      <td>262</td>\n",
       "      <td>2011-03-22</td>\n",
       "      <td>0</td>\n",
       "    </tr>\n",
       "    <tr>\n",
       "      <th>17</th>\n",
       "      <td>12834.0</td>\n",
       "      <td>1</td>\n",
       "      <td>2011-03-02</td>\n",
       "      <td>282</td>\n",
       "      <td>2011-03-02</td>\n",
       "      <td>0</td>\n",
       "    </tr>\n",
       "    <tr>\n",
       "      <th>...</th>\n",
       "      <td>...</td>\n",
       "      <td>...</td>\n",
       "      <td>...</td>\n",
       "      <td>...</td>\n",
       "      <td>...</td>\n",
       "      <td>...</td>\n",
       "    </tr>\n",
       "    <tr>\n",
       "      <th>3924</th>\n",
       "      <td>18250.0</td>\n",
       "      <td>2</td>\n",
       "      <td>2011-02-11</td>\n",
       "      <td>301</td>\n",
       "      <td>2011-02-02</td>\n",
       "      <td>9</td>\n",
       "    </tr>\n",
       "    <tr>\n",
       "      <th>3928</th>\n",
       "      <td>18256.0</td>\n",
       "      <td>1</td>\n",
       "      <td>2010-12-20</td>\n",
       "      <td>354</td>\n",
       "      <td>2010-12-20</td>\n",
       "      <td>0</td>\n",
       "    </tr>\n",
       "    <tr>\n",
       "      <th>3937</th>\n",
       "      <td>18269.0</td>\n",
       "      <td>2</td>\n",
       "      <td>2010-12-16</td>\n",
       "      <td>358</td>\n",
       "      <td>2010-12-08</td>\n",
       "      <td>8</td>\n",
       "    </tr>\n",
       "    <tr>\n",
       "      <th>3945</th>\n",
       "      <td>18280.0</td>\n",
       "      <td>1</td>\n",
       "      <td>2011-03-07</td>\n",
       "      <td>277</td>\n",
       "      <td>2011-03-07</td>\n",
       "      <td>0</td>\n",
       "    </tr>\n",
       "    <tr>\n",
       "      <th>3946</th>\n",
       "      <td>18281.0</td>\n",
       "      <td>1</td>\n",
       "      <td>2011-06-12</td>\n",
       "      <td>180</td>\n",
       "      <td>2011-06-12</td>\n",
       "      <td>0</td>\n",
       "    </tr>\n",
       "  </tbody>\n",
       "</table>\n",
       "<p>780 rows × 6 columns</p>\n",
       "</div>"
      ],
      "text/plain": [
       "      CustomerID  NumOfTrx LastInvoiceDate  DaysSinceLastInvoice  \\\n",
       "0        12346.0         2      2011-01-18                   325   \n",
       "5        12821.0         1      2011-05-09                   214   \n",
       "12       12829.0         3      2011-01-21                   322   \n",
       "14       12831.0         1      2011-03-22                   262   \n",
       "17       12834.0         1      2011-03-02                   282   \n",
       "...          ...       ...             ...                   ...   \n",
       "3924     18250.0         2      2011-02-11                   301   \n",
       "3928     18256.0         1      2010-12-20                   354   \n",
       "3937     18269.0         2      2010-12-16                   358   \n",
       "3945     18280.0         1      2011-03-07                   277   \n",
       "3946     18281.0         1      2011-06-12                   180   \n",
       "\n",
       "     FirstInvoiceDate  LastAndFirstInvoiceDiff  \n",
       "0          2011-01-18                        0  \n",
       "5          2011-05-09                        0  \n",
       "12         2010-12-14                       38  \n",
       "14         2011-03-22                        0  \n",
       "17         2011-03-02                        0  \n",
       "...               ...                      ...  \n",
       "3924       2011-02-02                        9  \n",
       "3928       2010-12-20                        0  \n",
       "3937       2010-12-08                        8  \n",
       "3945       2011-03-07                        0  \n",
       "3946       2011-06-12                        0  \n",
       "\n",
       "[780 rows x 6 columns]"
      ]
     },
     "execution_count": 14,
     "metadata": {},
     "output_type": "execute_result"
    }
   ],
   "source": [
    "df_customers.query('DaysSinceLastInvoice >= 180')"
   ]
  },
  {
   "cell_type": "markdown",
   "metadata": {},
   "source": [
    "- churned: days between first and last invoice > 180 days\n",
    "- not churned: days between first and last invoice <= 180 days\n",
    "- censored: days since last invoice < 180 days"
   ]
  },
  {
   "cell_type": "markdown",
   "metadata": {},
   "source": [
    "- death: second purchase\n",
    "- not death: haven't purchased for the second time before/at t\n",
    "- censored: haven't purchsaed for the second time after t"
   ]
  },
  {
   "cell_type": "code",
   "execution_count": 15,
   "metadata": {},
   "outputs": [
    {
     "data": {
      "text/plain": [
       "[['CustomerID', 'InvoiceNo', 'InvoiceDateOnly']]"
      ]
     },
     "execution_count": 15,
     "metadata": {},
     "output_type": "execute_result"
    }
   ],
   "source": [
    "[['CustomerID', 'InvoiceNo', 'InvoiceDateOnly']]"
   ]
  },
  {
   "cell_type": "code",
   "execution_count": 16,
   "metadata": {},
   "outputs": [],
   "source": [
    "df_trx_uk_simple = df_trx_uk.query('Quantity > 0')[\n",
    "    ['CustomerID', 'InvoiceNo', 'InvoiceDateOnly']\n",
    "].dropna().drop_duplicates().sort_values(by=['CustomerID', 'InvoiceDateOnly', 'InvoiceNo'], ascending=True)\n",
    "\n",
    "df_trx_uk_simple['NthInvoice'] = df_trx_uk_simple.groupby('CustomerID')['InvoiceNo'].rank()\n",
    "# df_trx_uk_simple['DaysSincePrevInvoice'] = (df_trx_uk_simple['InvoiceDateOnly'] \n",
    "#                                             - df_trx_uk_simple.groupby('CustomerID')['InvoiceDateOnly'].shift(1)).dt.days\n",
    "df_trx_uk_simple['DaysToNextInvoice'] = (df_trx_uk_simple.groupby('CustomerID')['InvoiceDateOnly'].shift(-1) - df_trx_uk_simple['InvoiceDateOnly']).dt.days"
   ]
  },
  {
   "cell_type": "code",
   "execution_count": 17,
   "metadata": {},
   "outputs": [
    {
     "data": {
      "text/html": [
       "<div>\n",
       "<style scoped>\n",
       "    .dataframe tbody tr th:only-of-type {\n",
       "        vertical-align: middle;\n",
       "    }\n",
       "\n",
       "    .dataframe tbody tr th {\n",
       "        vertical-align: top;\n",
       "    }\n",
       "\n",
       "    .dataframe thead th {\n",
       "        text-align: right;\n",
       "    }\n",
       "</style>\n",
       "<table border=\"1\" class=\"dataframe\">\n",
       "  <thead>\n",
       "    <tr style=\"text-align: right;\">\n",
       "      <th></th>\n",
       "      <th>CustomerID</th>\n",
       "      <th>InvoiceNo</th>\n",
       "      <th>InvoiceDateOnly</th>\n",
       "      <th>NthInvoice</th>\n",
       "      <th>DaysToNextInvoice</th>\n",
       "    </tr>\n",
       "  </thead>\n",
       "  <tbody>\n",
       "    <tr>\n",
       "      <th>61619</th>\n",
       "      <td>12346.0</td>\n",
       "      <td>541431</td>\n",
       "      <td>2011-01-18</td>\n",
       "      <td>1.0</td>\n",
       "      <td>NaN</td>\n",
       "    </tr>\n",
       "    <tr>\n",
       "      <th>9754</th>\n",
       "      <td>12747.0</td>\n",
       "      <td>537215</td>\n",
       "      <td>2010-12-05</td>\n",
       "      <td>1.0</td>\n",
       "      <td>8.0</td>\n",
       "    </tr>\n",
       "    <tr>\n",
       "      <th>27390</th>\n",
       "      <td>12747.0</td>\n",
       "      <td>538537</td>\n",
       "      <td>2010-12-13</td>\n",
       "      <td>2.0</td>\n",
       "      <td>38.0</td>\n",
       "    </tr>\n",
       "    <tr>\n",
       "      <th>64849</th>\n",
       "      <td>12747.0</td>\n",
       "      <td>541677</td>\n",
       "      <td>2011-01-20</td>\n",
       "      <td>3.0</td>\n",
       "      <td>40.0</td>\n",
       "    </tr>\n",
       "    <tr>\n",
       "      <th>106282</th>\n",
       "      <td>12747.0</td>\n",
       "      <td>545321</td>\n",
       "      <td>2011-03-01</td>\n",
       "      <td>4.0</td>\n",
       "      <td>65.0</td>\n",
       "    </tr>\n",
       "    <tr>\n",
       "      <th>...</th>\n",
       "      <td>...</td>\n",
       "      <td>...</td>\n",
       "      <td>...</td>\n",
       "      <td>...</td>\n",
       "      <td>...</td>\n",
       "    </tr>\n",
       "    <tr>\n",
       "      <th>514067</th>\n",
       "      <td>18283.0</td>\n",
       "      <td>579673</td>\n",
       "      <td>2011-11-30</td>\n",
       "      <td>15.0</td>\n",
       "      <td>6.0</td>\n",
       "    </tr>\n",
       "    <tr>\n",
       "      <th>530454</th>\n",
       "      <td>18283.0</td>\n",
       "      <td>580872</td>\n",
       "      <td>2011-12-06</td>\n",
       "      <td>16.0</td>\n",
       "      <td>NaN</td>\n",
       "    </tr>\n",
       "    <tr>\n",
       "      <th>198716</th>\n",
       "      <td>18287.0</td>\n",
       "      <td>554065</td>\n",
       "      <td>2011-05-22</td>\n",
       "      <td>1.0</td>\n",
       "      <td>143.0</td>\n",
       "    </tr>\n",
       "    <tr>\n",
       "      <th>392716</th>\n",
       "      <td>18287.0</td>\n",
       "      <td>570715</td>\n",
       "      <td>2011-10-12</td>\n",
       "      <td>2.0</td>\n",
       "      <td>16.0</td>\n",
       "    </tr>\n",
       "    <tr>\n",
       "      <th>423939</th>\n",
       "      <td>18287.0</td>\n",
       "      <td>573167</td>\n",
       "      <td>2011-10-28</td>\n",
       "      <td>3.0</td>\n",
       "      <td>NaN</td>\n",
       "    </tr>\n",
       "  </tbody>\n",
       "</table>\n",
       "<p>16649 rows × 5 columns</p>\n",
       "</div>"
      ],
      "text/plain": [
       "        CustomerID InvoiceNo InvoiceDateOnly  NthInvoice  DaysToNextInvoice\n",
       "61619      12346.0    541431      2011-01-18         1.0                NaN\n",
       "9754       12747.0    537215      2010-12-05         1.0                8.0\n",
       "27390      12747.0    538537      2010-12-13         2.0               38.0\n",
       "64849      12747.0    541677      2011-01-20         3.0               40.0\n",
       "106282     12747.0    545321      2011-03-01         4.0               65.0\n",
       "...            ...       ...             ...         ...                ...\n",
       "514067     18283.0    579673      2011-11-30        15.0                6.0\n",
       "530454     18283.0    580872      2011-12-06        16.0                NaN\n",
       "198716     18287.0    554065      2011-05-22         1.0              143.0\n",
       "392716     18287.0    570715      2011-10-12         2.0               16.0\n",
       "423939     18287.0    573167      2011-10-28         3.0                NaN\n",
       "\n",
       "[16649 rows x 5 columns]"
      ]
     },
     "execution_count": 17,
     "metadata": {},
     "output_type": "execute_result"
    }
   ],
   "source": [
    "df_trx_uk_simple"
   ]
  },
  {
   "cell_type": "code",
   "execution_count": 18,
   "metadata": {},
   "outputs": [
    {
     "data": {
      "text/plain": [
       "366.0"
      ]
     },
     "execution_count": 18,
     "metadata": {},
     "output_type": "execute_result"
    }
   ],
   "source": [
    "max_first_second_invoice_diff = df_trx_uk_simple[\n",
    "    df_trx_uk_simple['NthInvoice'] == 1\n",
    "]['DaysToNextInvoice'].max()\n",
    "\n",
    "max_first_second_invoice_diff"
   ]
  },
  {
   "cell_type": "code",
   "execution_count": 19,
   "metadata": {},
   "outputs": [
    {
     "data": {
      "text/plain": [
       "<AxesSubplot:ylabel='Frequency'>"
      ]
     },
     "execution_count": 19,
     "metadata": {},
     "output_type": "execute_result"
    },
    {
     "data": {
      "image/png": "[encoded data removed]",
      "text/plain": [
       "<Figure size 432x288 with 1 Axes>"
      ]
     },
     "metadata": {
      "needs_background": "light"
     },
     "output_type": "display_data"
    }
   ],
   "source": [
    "df_trx_uk_simple[\n",
    "    df_trx_uk_simple['NthInvoice'] == 1\n",
    "]['DaysToNextInvoice'].plot(kind='hist')"
   ]
  },
  {
   "cell_type": "code",
   "execution_count": 20,
   "metadata": {},
   "outputs": [
    {
     "data": {
      "text/html": [
       "<div>\n",
       "<style scoped>\n",
       "    .dataframe tbody tr th:only-of-type {\n",
       "        vertical-align: middle;\n",
       "    }\n",
       "\n",
       "    .dataframe tbody tr th {\n",
       "        vertical-align: top;\n",
       "    }\n",
       "\n",
       "    .dataframe thead th {\n",
       "        text-align: right;\n",
       "    }\n",
       "</style>\n",
       "<table border=\"1\" class=\"dataframe\">\n",
       "  <thead>\n",
       "    <tr style=\"text-align: right;\">\n",
       "      <th></th>\n",
       "      <th>T</th>\n",
       "      <th>E</th>\n",
       "      <th>group</th>\n",
       "    </tr>\n",
       "  </thead>\n",
       "  <tbody>\n",
       "    <tr>\n",
       "      <th>0</th>\n",
       "      <td>6.0</td>\n",
       "      <td>1</td>\n",
       "      <td>miR-137</td>\n",
       "    </tr>\n",
       "    <tr>\n",
       "      <th>1</th>\n",
       "      <td>13.0</td>\n",
       "      <td>1</td>\n",
       "      <td>miR-137</td>\n",
       "    </tr>\n",
       "    <tr>\n",
       "      <th>2</th>\n",
       "      <td>13.0</td>\n",
       "      <td>1</td>\n",
       "      <td>miR-137</td>\n",
       "    </tr>\n",
       "    <tr>\n",
       "      <th>3</th>\n",
       "      <td>13.0</td>\n",
       "      <td>1</td>\n",
       "      <td>miR-137</td>\n",
       "    </tr>\n",
       "    <tr>\n",
       "      <th>4</th>\n",
       "      <td>19.0</td>\n",
       "      <td>1</td>\n",
       "      <td>miR-137</td>\n",
       "    </tr>\n",
       "    <tr>\n",
       "      <th>...</th>\n",
       "      <td>...</td>\n",
       "      <td>...</td>\n",
       "      <td>...</td>\n",
       "    </tr>\n",
       "    <tr>\n",
       "      <th>158</th>\n",
       "      <td>60.0</td>\n",
       "      <td>1</td>\n",
       "      <td>control</td>\n",
       "    </tr>\n",
       "    <tr>\n",
       "      <th>159</th>\n",
       "      <td>60.0</td>\n",
       "      <td>1</td>\n",
       "      <td>control</td>\n",
       "    </tr>\n",
       "    <tr>\n",
       "      <th>160</th>\n",
       "      <td>60.0</td>\n",
       "      <td>1</td>\n",
       "      <td>control</td>\n",
       "    </tr>\n",
       "    <tr>\n",
       "      <th>161</th>\n",
       "      <td>60.0</td>\n",
       "      <td>1</td>\n",
       "      <td>control</td>\n",
       "    </tr>\n",
       "    <tr>\n",
       "      <th>162</th>\n",
       "      <td>66.0</td>\n",
       "      <td>1</td>\n",
       "      <td>control</td>\n",
       "    </tr>\n",
       "  </tbody>\n",
       "</table>\n",
       "<p>163 rows × 3 columns</p>\n",
       "</div>"
      ],
      "text/plain": [
       "        T  E    group\n",
       "0     6.0  1  miR-137\n",
       "1    13.0  1  miR-137\n",
       "2    13.0  1  miR-137\n",
       "3    13.0  1  miR-137\n",
       "4    19.0  1  miR-137\n",
       "..    ... ..      ...\n",
       "158  60.0  1  control\n",
       "159  60.0  1  control\n",
       "160  60.0  1  control\n",
       "161  60.0  1  control\n",
       "162  66.0  1  control\n",
       "\n",
       "[163 rows x 3 columns]"
      ]
     },
     "execution_count": 20,
     "metadata": {},
     "output_type": "execute_result"
    }
   ],
   "source": [
    "from lifelines import KaplanMeierFitter\n",
    "from lifelines.datasets import load_waltons\n",
    "\n",
    "waltons = load_waltons()\n",
    "waltons"
   ]
  },
  {
   "cell_type": "code",
   "execution_count": 21,
   "metadata": {},
   "outputs": [
    {
     "data": {
      "text/html": [
       "<div>\n",
       "<style scoped>\n",
       "    .dataframe tbody tr th:only-of-type {\n",
       "        vertical-align: middle;\n",
       "    }\n",
       "\n",
       "    .dataframe tbody tr th {\n",
       "        vertical-align: top;\n",
       "    }\n",
       "\n",
       "    .dataframe thead th {\n",
       "        text-align: right;\n",
       "    }\n",
       "</style>\n",
       "<table border=\"1\" class=\"dataframe\">\n",
       "  <thead>\n",
       "    <tr style=\"text-align: right;\">\n",
       "      <th></th>\n",
       "      <th>CustomerID</th>\n",
       "      <th>NumOfTrx</th>\n",
       "      <th>LastInvoiceDate</th>\n",
       "      <th>DaysSinceLastInvoice</th>\n",
       "      <th>FirstInvoiceDate</th>\n",
       "      <th>LastAndFirstInvoiceDiff</th>\n",
       "    </tr>\n",
       "  </thead>\n",
       "  <tbody>\n",
       "    <tr>\n",
       "      <th>0</th>\n",
       "      <td>12346.0</td>\n",
       "      <td>2</td>\n",
       "      <td>2011-01-18</td>\n",
       "      <td>325</td>\n",
       "      <td>2011-01-18</td>\n",
       "      <td>0</td>\n",
       "    </tr>\n",
       "    <tr>\n",
       "      <th>1</th>\n",
       "      <td>12747.0</td>\n",
       "      <td>11</td>\n",
       "      <td>2011-12-07</td>\n",
       "      <td>2</td>\n",
       "      <td>2010-12-05</td>\n",
       "      <td>367</td>\n",
       "    </tr>\n",
       "    <tr>\n",
       "      <th>2</th>\n",
       "      <td>12748.0</td>\n",
       "      <td>224</td>\n",
       "      <td>2011-12-09</td>\n",
       "      <td>0</td>\n",
       "      <td>2010-12-01</td>\n",
       "      <td>373</td>\n",
       "    </tr>\n",
       "    <tr>\n",
       "      <th>3</th>\n",
       "      <td>12749.0</td>\n",
       "      <td>8</td>\n",
       "      <td>2011-12-06</td>\n",
       "      <td>3</td>\n",
       "      <td>2011-05-10</td>\n",
       "      <td>210</td>\n",
       "    </tr>\n",
       "    <tr>\n",
       "      <th>4</th>\n",
       "      <td>12820.0</td>\n",
       "      <td>4</td>\n",
       "      <td>2011-12-06</td>\n",
       "      <td>3</td>\n",
       "      <td>2011-01-17</td>\n",
       "      <td>323</td>\n",
       "    </tr>\n",
       "    <tr>\n",
       "      <th>...</th>\n",
       "      <td>...</td>\n",
       "      <td>...</td>\n",
       "      <td>...</td>\n",
       "      <td>...</td>\n",
       "      <td>...</td>\n",
       "      <td>...</td>\n",
       "    </tr>\n",
       "    <tr>\n",
       "      <th>3945</th>\n",
       "      <td>18280.0</td>\n",
       "      <td>1</td>\n",
       "      <td>2011-03-07</td>\n",
       "      <td>277</td>\n",
       "      <td>2011-03-07</td>\n",
       "      <td>0</td>\n",
       "    </tr>\n",
       "    <tr>\n",
       "      <th>3946</th>\n",
       "      <td>18281.0</td>\n",
       "      <td>1</td>\n",
       "      <td>2011-06-12</td>\n",
       "      <td>180</td>\n",
       "      <td>2011-06-12</td>\n",
       "      <td>0</td>\n",
       "    </tr>\n",
       "    <tr>\n",
       "      <th>3947</th>\n",
       "      <td>18282.0</td>\n",
       "      <td>3</td>\n",
       "      <td>2011-12-02</td>\n",
       "      <td>7</td>\n",
       "      <td>2011-08-05</td>\n",
       "      <td>119</td>\n",
       "    </tr>\n",
       "    <tr>\n",
       "      <th>3948</th>\n",
       "      <td>18283.0</td>\n",
       "      <td>16</td>\n",
       "      <td>2011-12-06</td>\n",
       "      <td>3</td>\n",
       "      <td>2011-01-06</td>\n",
       "      <td>334</td>\n",
       "    </tr>\n",
       "    <tr>\n",
       "      <th>3949</th>\n",
       "      <td>18287.0</td>\n",
       "      <td>3</td>\n",
       "      <td>2011-10-28</td>\n",
       "      <td>42</td>\n",
       "      <td>2011-05-22</td>\n",
       "      <td>159</td>\n",
       "    </tr>\n",
       "  </tbody>\n",
       "</table>\n",
       "<p>3950 rows × 6 columns</p>\n",
       "</div>"
      ],
      "text/plain": [
       "      CustomerID  NumOfTrx LastInvoiceDate  DaysSinceLastInvoice  \\\n",
       "0        12346.0         2      2011-01-18                   325   \n",
       "1        12747.0        11      2011-12-07                     2   \n",
       "2        12748.0       224      2011-12-09                     0   \n",
       "3        12749.0         8      2011-12-06                     3   \n",
       "4        12820.0         4      2011-12-06                     3   \n",
       "...          ...       ...             ...                   ...   \n",
       "3945     18280.0         1      2011-03-07                   277   \n",
       "3946     18281.0         1      2011-06-12                   180   \n",
       "3947     18282.0         3      2011-12-02                     7   \n",
       "3948     18283.0        16      2011-12-06                     3   \n",
       "3949     18287.0         3      2011-10-28                    42   \n",
       "\n",
       "     FirstInvoiceDate  LastAndFirstInvoiceDiff  \n",
       "0          2011-01-18                        0  \n",
       "1          2010-12-05                      367  \n",
       "2          2010-12-01                      373  \n",
       "3          2011-05-10                      210  \n",
       "4          2011-01-17                      323  \n",
       "...               ...                      ...  \n",
       "3945       2011-03-07                        0  \n",
       "3946       2011-06-12                        0  \n",
       "3947       2011-08-05                      119  \n",
       "3948       2011-01-06                      334  \n",
       "3949       2011-05-22                      159  \n",
       "\n",
       "[3950 rows x 6 columns]"
      ]
     },
     "execution_count": 21,
     "metadata": {},
     "output_type": "execute_result"
    }
   ],
   "source": [
    "df_customers"
   ]
  },
  {
   "cell_type": "code",
   "execution_count": 22,
   "metadata": {},
   "outputs": [
    {
     "data": {
      "text/html": [
       "<div>\n",
       "<style scoped>\n",
       "    .dataframe tbody tr th:only-of-type {\n",
       "        vertical-align: middle;\n",
       "    }\n",
       "\n",
       "    .dataframe tbody tr th {\n",
       "        vertical-align: top;\n",
       "    }\n",
       "\n",
       "    .dataframe thead th {\n",
       "        text-align: right;\n",
       "    }\n",
       "</style>\n",
       "<table border=\"1\" class=\"dataframe\">\n",
       "  <thead>\n",
       "    <tr style=\"text-align: right;\">\n",
       "      <th></th>\n",
       "      <th>CustomerID</th>\n",
       "      <th>InvoiceNo</th>\n",
       "      <th>InvoiceDateOnly</th>\n",
       "      <th>NthInvoice</th>\n",
       "      <th>DaysToNextInvoice</th>\n",
       "    </tr>\n",
       "  </thead>\n",
       "  <tbody>\n",
       "    <tr>\n",
       "      <th>8448</th>\n",
       "      <td>12748.0</td>\n",
       "      <td>537136</td>\n",
       "      <td>2010-12-05</td>\n",
       "      <td>3.0</td>\n",
       "      <td>0.0</td>\n",
       "    </tr>\n",
       "    <tr>\n",
       "      <th>8587</th>\n",
       "      <td>12748.0</td>\n",
       "      <td>537140</td>\n",
       "      <td>2010-12-05</td>\n",
       "      <td>4.0</td>\n",
       "      <td>0.0</td>\n",
       "    </tr>\n",
       "    <tr>\n",
       "      <th>8670</th>\n",
       "      <td>12748.0</td>\n",
       "      <td>537142</td>\n",
       "      <td>2010-12-05</td>\n",
       "      <td>5.0</td>\n",
       "      <td>0.0</td>\n",
       "    </tr>\n",
       "    <tr>\n",
       "      <th>8900</th>\n",
       "      <td>12748.0</td>\n",
       "      <td>537155</td>\n",
       "      <td>2010-12-05</td>\n",
       "      <td>6.0</td>\n",
       "      <td>0.0</td>\n",
       "    </tr>\n",
       "    <tr>\n",
       "      <th>9735</th>\n",
       "      <td>12748.0</td>\n",
       "      <td>537213</td>\n",
       "      <td>2010-12-05</td>\n",
       "      <td>7.0</td>\n",
       "      <td>0.0</td>\n",
       "    </tr>\n",
       "    <tr>\n",
       "      <th>...</th>\n",
       "      <td>...</td>\n",
       "      <td>...</td>\n",
       "      <td>...</td>\n",
       "      <td>...</td>\n",
       "      <td>...</td>\n",
       "    </tr>\n",
       "    <tr>\n",
       "      <th>186722</th>\n",
       "      <td>18245.0</td>\n",
       "      <td>552880</td>\n",
       "      <td>2011-05-12</td>\n",
       "      <td>3.0</td>\n",
       "      <td>0.0</td>\n",
       "    </tr>\n",
       "    <tr>\n",
       "      <th>262288</th>\n",
       "      <td>18245.0</td>\n",
       "      <td>559909</td>\n",
       "      <td>2011-07-13</td>\n",
       "      <td>5.0</td>\n",
       "      <td>0.0</td>\n",
       "    </tr>\n",
       "    <tr>\n",
       "      <th>373699</th>\n",
       "      <td>18257.0</td>\n",
       "      <td>569358</td>\n",
       "      <td>2011-10-03</td>\n",
       "      <td>6.0</td>\n",
       "      <td>0.0</td>\n",
       "    </tr>\n",
       "    <tr>\n",
       "      <th>263633</th>\n",
       "      <td>18283.0</td>\n",
       "      <td>560025</td>\n",
       "      <td>2011-07-14</td>\n",
       "      <td>8.0</td>\n",
       "      <td>0.0</td>\n",
       "    </tr>\n",
       "    <tr>\n",
       "      <th>456033</th>\n",
       "      <td>18283.0</td>\n",
       "      <td>575668</td>\n",
       "      <td>2011-11-10</td>\n",
       "      <td>12.0</td>\n",
       "      <td>0.0</td>\n",
       "    </tr>\n",
       "  </tbody>\n",
       "</table>\n",
       "<p>1554 rows × 5 columns</p>\n",
       "</div>"
      ],
      "text/plain": [
       "        CustomerID InvoiceNo InvoiceDateOnly  NthInvoice  DaysToNextInvoice\n",
       "8448       12748.0    537136      2010-12-05         3.0                0.0\n",
       "8587       12748.0    537140      2010-12-05         4.0                0.0\n",
       "8670       12748.0    537142      2010-12-05         5.0                0.0\n",
       "8900       12748.0    537155      2010-12-05         6.0                0.0\n",
       "9735       12748.0    537213      2010-12-05         7.0                0.0\n",
       "...            ...       ...             ...         ...                ...\n",
       "186722     18245.0    552880      2011-05-12         3.0                0.0\n",
       "262288     18245.0    559909      2011-07-13         5.0                0.0\n",
       "373699     18257.0    569358      2011-10-03         6.0                0.0\n",
       "263633     18283.0    560025      2011-07-14         8.0                0.0\n",
       "456033     18283.0    575668      2011-11-10        12.0                0.0\n",
       "\n",
       "[1554 rows x 5 columns]"
      ]
     },
     "execution_count": 22,
     "metadata": {},
     "output_type": "execute_result"
    }
   ],
   "source": [
    "df_trx_uk_simple.query('DaysToNextInvoice == 0')"
   ]
  },
  {
   "cell_type": "code",
   "execution_count": 23,
   "metadata": {},
   "outputs": [],
   "source": [
    "data_last_invoice_date = df_trx_uk_simple['InvoiceDateOnly'].max()\n",
    "\n",
    "df_1st_invoice = df_trx_uk_simple[df_trx_uk_simple['NthInvoice'] == 1].copy()\n",
    "df_1st_invoice['Death'] = df_1st_invoice['DaysToNextInvoice'].apply(lambda x: 1 if x >=0 else 0)\n",
    "df_1st_invoice['T'] = df_1st_invoice['DaysToNextInvoice'].fillna(\n",
    "    (data_last_invoice_date - df_1st_invoice['InvoiceDateOnly']).dt.days) + 1 # assume that death start at t=1"
   ]
  },
  {
   "cell_type": "code",
   "execution_count": 24,
   "metadata": {},
   "outputs": [
    {
     "name": "stderr",
     "output_type": "stream",
     "text": [
      "C:\\ProgramData\\Miniconda3\\lib\\site-packages\\lifelines\\fitters\\kaplan_meier_fitter.py:265: FutureWarning: Support for multi-dimensional indexing (e.g. `obj[:, None]`) is deprecated and will be removed in a future version.  Convert to a numpy array before indexing instead.\n",
      "  self.confidence_interval_ = self._bounds(cumulative_sq_[:, None], alpha, ci_labels)\n"
     ]
    },
    {
     "data": {
      "text/plain": [
       "<lifelines.KaplanMeierFitter:\"days_to_second_purchase\", fitted with 3921 total observations, 1351 right-censored observations>"
      ]
     },
     "execution_count": 24,
     "metadata": {},
     "output_type": "execute_result"
    }
   ],
   "source": [
    "kmf = KaplanMeierFitter(label='days_to_second_purchase')\n",
    "kmf.fit(df_1st_invoice['T'], df_1st_invoice['Death'])"
   ]
  },
  {
   "cell_type": "code",
   "execution_count": 105,
   "metadata": {},
   "outputs": [
    {
     "data": {
      "image/png": "[encoded data removed]",
      "text/plain": [
       "<Figure size 864x504 with 1 Axes>"
      ]
     },
     "metadata": {
      "needs_background": "light"
     },
     "output_type": "display_data"
    }
   ],
   "source": [
    "plt.figure(figsize=(12,7))\n",
    "kmf.plot()\n",
    "plt.ylabel(\"P(hasn't made the 2nd purchase)\", fontsize=12)\n",
    "plt.grid()\n",
    "plt.xlabel(\"nth day\", fontsize=12)\n",
    "plt.axvline(x=26, ls='--', color='black', ymax=0.74)\n",
    "plt.axhline(y=0.8, ls='--', color='black', xmax=0.11)\n",
    "plt.axvline(x=99, ls='--', color='black', ymax=0.44)\n",
    "plt.axhline(y=0.5, ls='--', color='black', xmax=0.29)\n",
    "plt.axvline(x=180, ls='--', color='black', ymax=0.27)\n",
    "plt.axhline(y=0.33, ls='--', color='black', xmax=0.485)\n",
    "plt.show()"
   ]
  },
  {
   "cell_type": "code",
   "execution_count": 96,
   "metadata": {},
   "outputs": [
    {
     "data": {
      "text/html": [
       "<div>\n",
       "<style scoped>\n",
       "    .dataframe tbody tr th:only-of-type {\n",
       "        vertical-align: middle;\n",
       "    }\n",
       "\n",
       "    .dataframe tbody tr th {\n",
       "        vertical-align: top;\n",
       "    }\n",
       "\n",
       "    .dataframe thead th {\n",
       "        text-align: right;\n",
       "    }\n",
       "</style>\n",
       "<table border=\"1\" class=\"dataframe\">\n",
       "  <thead>\n",
       "    <tr style=\"text-align: right;\">\n",
       "      <th></th>\n",
       "      <th>days_to_second_purchase</th>\n",
       "    </tr>\n",
       "    <tr>\n",
       "      <th>timeline</th>\n",
       "      <th></th>\n",
       "    </tr>\n",
       "  </thead>\n",
       "  <tbody>\n",
       "    <tr>\n",
       "      <th>180.0</th>\n",
       "      <td>0.336317</td>\n",
       "    </tr>\n",
       "    <tr>\n",
       "      <th>181.0</th>\n",
       "      <td>0.335924</td>\n",
       "    </tr>\n",
       "    <tr>\n",
       "      <th>182.0</th>\n",
       "      <td>0.335138</td>\n",
       "    </tr>\n",
       "    <tr>\n",
       "      <th>183.0</th>\n",
       "      <td>0.333960</td>\n",
       "    </tr>\n",
       "    <tr>\n",
       "      <th>184.0</th>\n",
       "      <td>0.333170</td>\n",
       "    </tr>\n",
       "    <tr>\n",
       "      <th>...</th>\n",
       "      <td>...</td>\n",
       "    </tr>\n",
       "    <tr>\n",
       "      <th>369.0</th>\n",
       "      <td>0.141559</td>\n",
       "    </tr>\n",
       "    <tr>\n",
       "      <th>370.0</th>\n",
       "      <td>0.141559</td>\n",
       "    </tr>\n",
       "    <tr>\n",
       "      <th>372.0</th>\n",
       "      <td>0.141559</td>\n",
       "    </tr>\n",
       "    <tr>\n",
       "      <th>373.0</th>\n",
       "      <td>0.141559</td>\n",
       "    </tr>\n",
       "    <tr>\n",
       "      <th>374.0</th>\n",
       "      <td>0.141559</td>\n",
       "    </tr>\n",
       "  </tbody>\n",
       "</table>\n",
       "<p>182 rows × 1 columns</p>\n",
       "</div>"
      ],
      "text/plain": [
       "          days_to_second_purchase\n",
       "timeline                         \n",
       "180.0                    0.336317\n",
       "181.0                    0.335924\n",
       "182.0                    0.335138\n",
       "183.0                    0.333960\n",
       "184.0                    0.333170\n",
       "...                           ...\n",
       "369.0                    0.141559\n",
       "370.0                    0.141559\n",
       "372.0                    0.141559\n",
       "373.0                    0.141559\n",
       "374.0                    0.141559\n",
       "\n",
       "[182 rows x 1 columns]"
      ]
     },
     "execution_count": 96,
     "metadata": {},
     "output_type": "execute_result"
    }
   ],
   "source": [
    "kmf.survival_function_[kmf.survival_function_.index >= 180]"
   ]
  },
  {
   "cell_type": "code",
   "execution_count": 26,
   "metadata": {},
   "outputs": [
    {
     "data": {
      "text/plain": [
       "days_to_second_purchase_lower_0.95    0.804498\n",
       "days_to_second_purchase_upper_0.95    0.828854\n",
       "Name: 23.0, dtype: float64"
      ]
     },
     "execution_count": 26,
     "metadata": {},
     "output_type": "execute_result"
    }
   ],
   "source": [
    "kmf.confidence_interval_[kmf.confidence_interval_['days_to_second_purchase_lower_0.95'] >= 0.8].iloc[-1]"
   ]
  },
  {
   "cell_type": "markdown",
   "metadata": {},
   "source": [
    "Around 80.4 - 82.8 percent of customers haven't made their second purchase until 22nd day after the first purchase."
   ]
  },
  {
   "cell_type": "code",
   "execution_count": 27,
   "metadata": {},
   "outputs": [
    {
     "data": {
      "text/plain": [
       "100.0"
      ]
     },
     "execution_count": 27,
     "metadata": {},
     "output_type": "execute_result"
    }
   ],
   "source": [
    "kmf.median_survival_time_"
   ]
  },
  {
   "cell_type": "markdown",
   "metadata": {},
   "source": [
    "Half of customers haven't made their second purchase until the 99th day after the first purchase (around three months)."
   ]
  },
  {
   "cell_type": "code",
   "execution_count": 116,
   "metadata": {},
   "outputs": [
    {
     "data": {
      "image/png": "[encoded data removed]",
      "text/plain": [
       "<Figure size 864x504 with 1 Axes>"
      ]
     },
     "metadata": {
      "needs_background": "light"
     },
     "output_type": "display_data"
    }
   ],
   "source": [
    "from lifelines.plotting import plot_lifetimes\n",
    "\n",
    "np.random.seed(22)\n",
    "\n",
    "t_current = 100\n",
    "\n",
    "actual_lifetimes_25_only = np.random.choice(\n",
    "    df_1st_invoice['T'].values, 25)\n",
    "\n",
    "observed_lifetimes_at_t_current = np.minimum(\n",
    "    actual_lifetimes_25_only, t_current) \n",
    "observed_death_at_t_current = actual_lifetimes_25_only < t_current\n",
    "\n",
    "plt.figure(figsize=(12,7))\n",
    "ax = plot_lifetimes(actual_lifetimes_25_only,\n",
    "                    event_observed=observed_death_at_t_current,\n",
    "                    sort_by_duration=False)\n",
    "ax.set_xlim(0, t_current * 1.25)\n",
    "ax.vlines(t_current, -1, 25, ls='--', color='black')\n",
    "ax.set_xlabel('nth day', fontsize=13)\n",
    "ax.set_title('Making the 2nd purchase at $t={}$'.format(t_current), fontsize=14)\n",
    "plt.xticks(fontsize=14)\n",
    "plt.yticks(fontsize=14)\n",
    "plt.grid(axis='x')\n",
    "plt.show()"
   ]
  },
  {
   "cell_type": "code",
   "execution_count": 29,
   "metadata": {},
   "outputs": [
    {
     "name": "stderr",
     "output_type": "stream",
     "text": [
      "C:\\ProgramData\\Miniconda3\\lib\\site-packages\\lifelines\\fitters\\nelson_aalen_fitter.py:147: FutureWarning: Support for multi-dimensional indexing (e.g. `obj[:, None]`) is deprecated and will be removed in a future version.  Convert to a numpy array before indexing instead.\n",
      "  self.confidence_interval_ = self._bounds(cumulative_sq_[:, None], alpha if alpha else self.alpha, ci_labels)\n"
     ]
    },
    {
     "data": {
      "text/plain": [
       "<lifelines.NelsonAalenFitter:\"Cumulative P(second purchase at time $t$)\", fitted with 3921 total observations, 1351 right-censored observations>"
      ]
     },
     "execution_count": 29,
     "metadata": {},
     "output_type": "execute_result"
    }
   ],
   "source": [
    "from lifelines import NelsonAalenFitter\n",
    "\n",
    "naf = NelsonAalenFitter(label='Cumulative P(second purchase at time $t$)')\n",
    "naf.fit(df_1st_invoice['T'], df_1st_invoice['Death'])"
   ]
  },
  {
   "cell_type": "code",
   "execution_count": 30,
   "metadata": {},
   "outputs": [
    {
     "data": {
      "image/png": "[encoded data removed]",
      "text/plain": [
       "<Figure size 864x504 with 1 Axes>"
      ]
     },
     "metadata": {
      "needs_background": "light"
     },
     "output_type": "display_data"
    }
   ],
   "source": [
    "plt.figure(figsize=(12,7))\n",
    "naf.plot_hazard(bandwidth=3)\n",
    "plt.grid()\n",
    "plt.xlabel('nth day', fontsize=12)\n",
    "plt.legend().remove()\n",
    "plt.ylabel(\"P(made the 2nd purchase)\", fontsize=12)\n",
    "plt.show()"
   ]
  },
  {
   "cell_type": "markdown",
   "metadata": {},
   "source": [
    "In general, customers seem to have a constant hazard. No particular $t$ range with higher death probabilities than the others."
   ]
  },
  {
   "cell_type": "code",
   "execution_count": 37,
   "metadata": {},
   "outputs": [
    {
     "data": {
      "image/png": "[encoded data removed]",
      "text/plain": [
       "<Figure size 864x504 with 1 Axes>"
      ]
     },
     "metadata": {
      "needs_background": "light"
     },
     "output_type": "display_data"
    }
   ],
   "source": [
    "plt.figure(figsize=(12,7))\n",
    "# naf.plot_hazard(bandwidth=3)\n",
    "sns.lineplot(data=naf.smoothed_hazard_(bandwidth=3))\n",
    "plt.grid()\n",
    "plt.xlabel('nth day', fontsize=12)\n",
    "plt.legend().remove()\n",
    "plt.ylabel(\"P(made the 2nd purchase)\", fontsize=12)\n",
    "plt.show()"
   ]
  },
  {
   "cell_type": "code",
   "execution_count": 31,
   "metadata": {},
   "outputs": [
    {
     "data": {
      "image/png": "[encoded data removed]",
      "text/plain": [
       "<Figure size 864x504 with 1 Axes>"
      ]
     },
     "metadata": {
      "needs_background": "light"
     },
     "output_type": "display_data"
    }
   ],
   "source": [
    "plt.figure(figsize=(12,7))\n",
    "naf.plot_cumulative_hazard()\n",
    "plt.grid()\n",
    "plt.xlabel('nth day')\n",
    "plt.show()"
   ]
  },
  {
   "cell_type": "code",
   "execution_count": 40,
   "metadata": {},
   "outputs": [
    {
     "data": {
      "text/html": [
       "<div>\n",
       "<style scoped>\n",
       "    .dataframe tbody tr th:only-of-type {\n",
       "        vertical-align: middle;\n",
       "    }\n",
       "\n",
       "    .dataframe tbody tr th {\n",
       "        vertical-align: top;\n",
       "    }\n",
       "\n",
       "    .dataframe thead th {\n",
       "        text-align: right;\n",
       "    }\n",
       "</style>\n",
       "<table border=\"1\" class=\"dataframe\">\n",
       "  <thead>\n",
       "    <tr style=\"text-align: right;\">\n",
       "      <th></th>\n",
       "      <th>Cumulative P(second purchase at time $t$)</th>\n",
       "    </tr>\n",
       "    <tr>\n",
       "      <th>timeline</th>\n",
       "      <th></th>\n",
       "    </tr>\n",
       "  </thead>\n",
       "  <tbody>\n",
       "    <tr>\n",
       "      <th>0.0</th>\n",
       "      <td>0.000000</td>\n",
       "    </tr>\n",
       "    <tr>\n",
       "      <th>1.0</th>\n",
       "      <td>0.052616</td>\n",
       "    </tr>\n",
       "    <tr>\n",
       "      <th>2.0</th>\n",
       "      <td>0.058547</td>\n",
       "    </tr>\n",
       "    <tr>\n",
       "      <th>3.0</th>\n",
       "      <td>0.063703</td>\n",
       "    </tr>\n",
       "    <tr>\n",
       "      <th>4.0</th>\n",
       "      <td>0.066430</td>\n",
       "    </tr>\n",
       "    <tr>\n",
       "      <th>...</th>\n",
       "      <td>...</td>\n",
       "    </tr>\n",
       "    <tr>\n",
       "      <th>369.0</th>\n",
       "      <td>1.952433</td>\n",
       "    </tr>\n",
       "    <tr>\n",
       "      <th>370.0</th>\n",
       "      <td>1.952433</td>\n",
       "    </tr>\n",
       "    <tr>\n",
       "      <th>372.0</th>\n",
       "      <td>1.952433</td>\n",
       "    </tr>\n",
       "    <tr>\n",
       "      <th>373.0</th>\n",
       "      <td>1.952433</td>\n",
       "    </tr>\n",
       "    <tr>\n",
       "      <th>374.0</th>\n",
       "      <td>1.952433</td>\n",
       "    </tr>\n",
       "  </tbody>\n",
       "</table>\n",
       "<p>362 rows × 1 columns</p>\n",
       "</div>"
      ],
      "text/plain": [
       "          Cumulative P(second purchase at time $t$)\n",
       "timeline                                           \n",
       "0.0                                        0.000000\n",
       "1.0                                        0.052616\n",
       "2.0                                        0.058547\n",
       "3.0                                        0.063703\n",
       "4.0                                        0.066430\n",
       "...                                             ...\n",
       "369.0                                      1.952433\n",
       "370.0                                      1.952433\n",
       "372.0                                      1.952433\n",
       "373.0                                      1.952433\n",
       "374.0                                      1.952433\n",
       "\n",
       "[362 rows x 1 columns]"
      ]
     },
     "execution_count": 40,
     "metadata": {},
     "output_type": "execute_result"
    }
   ],
   "source": [
    "naf.cumulative_hazard_"
   ]
  },
  {
   "cell_type": "code",
   "execution_count": 45,
   "metadata": {},
   "outputs": [
    {
     "data": {
      "text/html": [
       "<div>\n",
       "<style scoped>\n",
       "    .dataframe tbody tr th:only-of-type {\n",
       "        vertical-align: middle;\n",
       "    }\n",
       "\n",
       "    .dataframe tbody tr th {\n",
       "        vertical-align: top;\n",
       "    }\n",
       "\n",
       "    .dataframe thead th {\n",
       "        text-align: right;\n",
       "    }\n",
       "</style>\n",
       "<table border=\"1\" class=\"dataframe\">\n",
       "  <thead>\n",
       "    <tr style=\"text-align: right;\">\n",
       "      <th></th>\n",
       "      <th>CustomerID</th>\n",
       "      <th>InvoiceNo</th>\n",
       "      <th>InvoiceDateOnly</th>\n",
       "      <th>NthInvoice</th>\n",
       "      <th>DaysToNextInvoice</th>\n",
       "      <th>Death</th>\n",
       "      <th>T</th>\n",
       "    </tr>\n",
       "  </thead>\n",
       "  <tbody>\n",
       "    <tr>\n",
       "      <th>688</th>\n",
       "      <td>16583.0</td>\n",
       "      <td>536420</td>\n",
       "      <td>2010-12-01</td>\n",
       "      <td>1.0</td>\n",
       "      <td>NaN</td>\n",
       "      <td>0</td>\n",
       "      <td>374.0</td>\n",
       "    </tr>\n",
       "    <tr>\n",
       "      <th>155</th>\n",
       "      <td>18074.0</td>\n",
       "      <td>536384</td>\n",
       "      <td>2010-12-01</td>\n",
       "      <td>1.0</td>\n",
       "      <td>NaN</td>\n",
       "      <td>0</td>\n",
       "      <td>374.0</td>\n",
       "    </tr>\n",
       "    <tr>\n",
       "      <th>945</th>\n",
       "      <td>14729.0</td>\n",
       "      <td>536520</td>\n",
       "      <td>2010-12-01</td>\n",
       "      <td>1.0</td>\n",
       "      <td>NaN</td>\n",
       "      <td>0</td>\n",
       "      <td>374.0</td>\n",
       "    </tr>\n",
       "    <tr>\n",
       "      <th>1377</th>\n",
       "      <td>15165.0</td>\n",
       "      <td>536539</td>\n",
       "      <td>2010-12-01</td>\n",
       "      <td>1.0</td>\n",
       "      <td>NaN</td>\n",
       "      <td>0</td>\n",
       "      <td>374.0</td>\n",
       "    </tr>\n",
       "    <tr>\n",
       "      <th>2407</th>\n",
       "      <td>13065.0</td>\n",
       "      <td>536590</td>\n",
       "      <td>2010-12-01</td>\n",
       "      <td>1.0</td>\n",
       "      <td>NaN</td>\n",
       "      <td>0</td>\n",
       "      <td>374.0</td>\n",
       "    </tr>\n",
       "    <tr>\n",
       "      <th>...</th>\n",
       "      <td>...</td>\n",
       "      <td>...</td>\n",
       "      <td>...</td>\n",
       "      <td>...</td>\n",
       "      <td>...</td>\n",
       "      <td>...</td>\n",
       "      <td>...</td>\n",
       "    </tr>\n",
       "    <tr>\n",
       "      <th>195558</th>\n",
       "      <td>17047.0</td>\n",
       "      <td>553724</td>\n",
       "      <td>2011-05-18</td>\n",
       "      <td>1.0</td>\n",
       "      <td>0.0</td>\n",
       "      <td>1</td>\n",
       "      <td>1.0</td>\n",
       "    </tr>\n",
       "    <tr>\n",
       "      <th>23913</th>\n",
       "      <td>18065.0</td>\n",
       "      <td>538263</td>\n",
       "      <td>2010-12-10</td>\n",
       "      <td>1.0</td>\n",
       "      <td>0.0</td>\n",
       "      <td>1</td>\n",
       "      <td>1.0</td>\n",
       "    </tr>\n",
       "    <tr>\n",
       "      <th>368934</th>\n",
       "      <td>16268.0</td>\n",
       "      <td>569005</td>\n",
       "      <td>2011-09-29</td>\n",
       "      <td>1.0</td>\n",
       "      <td>0.0</td>\n",
       "      <td>1</td>\n",
       "      <td>1.0</td>\n",
       "    </tr>\n",
       "    <tr>\n",
       "      <th>109588</th>\n",
       "      <td>14670.0</td>\n",
       "      <td>545655</td>\n",
       "      <td>2011-03-04</td>\n",
       "      <td>1.0</td>\n",
       "      <td>0.0</td>\n",
       "      <td>1</td>\n",
       "      <td>1.0</td>\n",
       "    </tr>\n",
       "    <tr>\n",
       "      <th>123682</th>\n",
       "      <td>15861.0</td>\n",
       "      <td>546912</td>\n",
       "      <td>2011-03-17</td>\n",
       "      <td>1.0</td>\n",
       "      <td>0.0</td>\n",
       "      <td>1</td>\n",
       "      <td>1.0</td>\n",
       "    </tr>\n",
       "  </tbody>\n",
       "</table>\n",
       "<p>3921 rows × 7 columns</p>\n",
       "</div>"
      ],
      "text/plain": [
       "        CustomerID InvoiceNo InvoiceDateOnly  NthInvoice  DaysToNextInvoice  \\\n",
       "688        16583.0    536420      2010-12-01         1.0                NaN   \n",
       "155        18074.0    536384      2010-12-01         1.0                NaN   \n",
       "945        14729.0    536520      2010-12-01         1.0                NaN   \n",
       "1377       15165.0    536539      2010-12-01         1.0                NaN   \n",
       "2407       13065.0    536590      2010-12-01         1.0                NaN   \n",
       "...            ...       ...             ...         ...                ...   \n",
       "195558     17047.0    553724      2011-05-18         1.0                0.0   \n",
       "23913      18065.0    538263      2010-12-10         1.0                0.0   \n",
       "368934     16268.0    569005      2011-09-29         1.0                0.0   \n",
       "109588     14670.0    545655      2011-03-04         1.0                0.0   \n",
       "123682     15861.0    546912      2011-03-17         1.0                0.0   \n",
       "\n",
       "        Death      T  \n",
       "688         0  374.0  \n",
       "155         0  374.0  \n",
       "945         0  374.0  \n",
       "1377        0  374.0  \n",
       "2407        0  374.0  \n",
       "...       ...    ...  \n",
       "195558      1    1.0  \n",
       "23913       1    1.0  \n",
       "368934      1    1.0  \n",
       "109588      1    1.0  \n",
       "123682      1    1.0  \n",
       "\n",
       "[3921 rows x 7 columns]"
      ]
     },
     "execution_count": 45,
     "metadata": {},
     "output_type": "execute_result"
    }
   ],
   "source": [
    "df_1st_invoice.sort_values(by='T', ascending=False)"
   ]
  },
  {
   "cell_type": "code",
   "execution_count": 46,
   "metadata": {},
   "outputs": [
    {
     "data": {
      "text/plain": [
       "<seaborn.axisgrid.FacetGrid at 0x2910c612788>"
      ]
     },
     "execution_count": 46,
     "metadata": {},
     "output_type": "execute_result"
    },
    {
     "data": {
      "image/png": "[encoded data removed]",
      "text/plain": [
       "<Figure size 360x360 with 1 Axes>"
      ]
     },
     "metadata": {
      "needs_background": "light"
     },
     "output_type": "display_data"
    }
   ],
   "source": [
    "sns.displot(df_1st_invoice['T'])"
   ]
  },
  {
   "cell_type": "markdown",
   "metadata": {},
   "source": [
    "The hazard increase rate looks quite consistent along the timeline."
   ]
  },
  {
   "cell_type": "code",
   "execution_count": 32,
   "metadata": {},
   "outputs": [
    {
     "data": {
      "text/plain": [
       "<AxesSubplot:>"
      ]
     },
     "execution_count": 32,
     "metadata": {},
     "output_type": "execute_result"
    },
    {
     "data": {
      "image/png": "[encoded data removed]",
      "text/plain": [
       "<Figure size 432x288 with 1 Axes>"
      ]
     },
     "metadata": {
      "needs_background": "light"
     },
     "output_type": "display_data"
    }
   ],
   "source": [
    "sns.lineplot(data=naf.smoothed_hazard_(bandwidth=3))"
   ]
  },
  {
   "cell_type": "code",
   "execution_count": 33,
   "metadata": {},
   "outputs": [
    {
     "name": "stdout",
     "output_type": "stream",
     "text": [
      "|    |   Lifespan |   Death |\n",
      "|---:|-----------:|--------:|\n",
      "|  0 |        326 |       0 |\n",
      "|  1 |          9 |       1 |\n",
      "|  2 |          2 |       1 |\n",
      "|  3 |         84 |       1 |\n",
      "|  4 |        253 |       1 |\n",
      "|  5 |        215 |       0 |\n",
      "|  6 |         18 |       1 |\n",
      "|  7 |          8 |       1 |\n"
     ]
    }
   ],
   "source": [
    "df_lifespan = df_1st_invoice[['T', 'Death']].copy().rename(columns={'T': 'Lifespan'})\n",
    "df_lifespan['Lifespan'] = df_lifespan['Lifespan'].astype(int)\n",
    "print(df_lifespan.head(8).reset_index(drop=True).to_markdown())"
   ]
  },
  {
   "cell_type": "code",
   "execution_count": 34,
   "metadata": {},
   "outputs": [
    {
     "data": {
      "text/html": [
       "<div>\n",
       "<style scoped>\n",
       "    .dataframe tbody tr th:only-of-type {\n",
       "        vertical-align: middle;\n",
       "    }\n",
       "\n",
       "    .dataframe tbody tr th {\n",
       "        vertical-align: top;\n",
       "    }\n",
       "\n",
       "    .dataframe thead th {\n",
       "        text-align: right;\n",
       "    }\n",
       "</style>\n",
       "<table border=\"1\" class=\"dataframe\">\n",
       "  <thead>\n",
       "    <tr style=\"text-align: right;\">\n",
       "      <th></th>\n",
       "      <th>T</th>\n",
       "      <th>Death</th>\n",
       "    </tr>\n",
       "  </thead>\n",
       "  <tbody>\n",
       "    <tr>\n",
       "      <th>61619</th>\n",
       "      <td>326.0</td>\n",
       "      <td>0</td>\n",
       "    </tr>\n",
       "    <tr>\n",
       "      <th>9754</th>\n",
       "      <td>9.0</td>\n",
       "      <td>1</td>\n",
       "    </tr>\n",
       "    <tr>\n",
       "      <th>1016</th>\n",
       "      <td>2.0</td>\n",
       "      <td>1</td>\n",
       "    </tr>\n",
       "    <tr>\n",
       "      <th>184487</th>\n",
       "      <td>84.0</td>\n",
       "      <td>1</td>\n",
       "    </tr>\n",
       "    <tr>\n",
       "      <th>59368</th>\n",
       "      <td>253.0</td>\n",
       "      <td>1</td>\n",
       "    </tr>\n",
       "    <tr>\n",
       "      <th>181494</th>\n",
       "      <td>215.0</td>\n",
       "      <td>0</td>\n",
       "    </tr>\n",
       "    <tr>\n",
       "      <th>339084</th>\n",
       "      <td>18.0</td>\n",
       "      <td>1</td>\n",
       "    </tr>\n",
       "    <tr>\n",
       "      <th>91816</th>\n",
       "      <td>8.0</td>\n",
       "      <td>1</td>\n",
       "    </tr>\n",
       "    <tr>\n",
       "      <th>390977</th>\n",
       "      <td>60.0</td>\n",
       "      <td>0</td>\n",
       "    </tr>\n",
       "    <tr>\n",
       "      <th>21671</th>\n",
       "      <td>42.0</td>\n",
       "      <td>1</td>\n",
       "    </tr>\n",
       "    <tr>\n",
       "      <th>420735</th>\n",
       "      <td>13.0</td>\n",
       "      <td>1</td>\n",
       "    </tr>\n",
       "    <tr>\n",
       "      <th>286324</th>\n",
       "      <td>19.0</td>\n",
       "      <td>1</td>\n",
       "    </tr>\n",
       "    <tr>\n",
       "      <th>30533</th>\n",
       "      <td>25.0</td>\n",
       "      <td>1</td>\n",
       "    </tr>\n",
       "    <tr>\n",
       "      <th>234640</th>\n",
       "      <td>16.0</td>\n",
       "      <td>1</td>\n",
       "    </tr>\n",
       "    <tr>\n",
       "      <th>128892</th>\n",
       "      <td>263.0</td>\n",
       "      <td>0</td>\n",
       "    </tr>\n",
       "    <tr>\n",
       "      <th>323679</th>\n",
       "      <td>67.0</td>\n",
       "      <td>1</td>\n",
       "    </tr>\n",
       "    <tr>\n",
       "      <th>266676</th>\n",
       "      <td>146.0</td>\n",
       "      <td>0</td>\n",
       "    </tr>\n",
       "    <tr>\n",
       "      <th>106839</th>\n",
       "      <td>283.0</td>\n",
       "      <td>0</td>\n",
       "    </tr>\n",
       "    <tr>\n",
       "      <th>78086</th>\n",
       "      <td>93.0</td>\n",
       "      <td>1</td>\n",
       "    </tr>\n",
       "    <tr>\n",
       "      <th>232379</th>\n",
       "      <td>174.0</td>\n",
       "      <td>0</td>\n",
       "    </tr>\n",
       "  </tbody>\n",
       "</table>\n",
       "</div>"
      ],
      "text/plain": [
       "            T  Death\n",
       "61619   326.0      0\n",
       "9754      9.0      1\n",
       "1016      2.0      1\n",
       "184487   84.0      1\n",
       "59368   253.0      1\n",
       "181494  215.0      0\n",
       "339084   18.0      1\n",
       "91816     8.0      1\n",
       "390977   60.0      0\n",
       "21671    42.0      1\n",
       "420735   13.0      1\n",
       "286324   19.0      1\n",
       "30533    25.0      1\n",
       "234640   16.0      1\n",
       "128892  263.0      0\n",
       "323679   67.0      1\n",
       "266676  146.0      0\n",
       "106839  283.0      0\n",
       "78086    93.0      1\n",
       "232379  174.0      0"
      ]
     },
     "execution_count": 34,
     "metadata": {},
     "output_type": "execute_result"
    }
   ],
   "source": [
    "df_1st_invoice[['T', 'Death']].head(20)"
   ]
  },
  {
   "cell_type": "code",
   "execution_count": null,
   "metadata": {},
   "outputs": [],
   "source": []
  },
  {
   "cell_type": "code",
   "execution_count": null,
   "metadata": {},
   "outputs": [],
   "source": []
  },
  {
   "cell_type": "code",
   "execution_count": null,
   "metadata": {},
   "outputs": [],
   "source": []
  },
  {
   "cell_type": "code",
   "execution_count": null,
   "metadata": {},
   "outputs": [],
   "source": []
  }
 ],
 "metadata": {
  "kernelspec": {
   "display_name": "Python 3 (ipykernel)",
   "language": "python",
   "name": "python3"
  },
  "language_info": {
   "codemirror_mode": {
    "name": "ipython",
    "version": 3
   },
   "file_extension": ".py",
   "mimetype": "text/x-python",
   "name": "python",
   "nbconvert_exporter": "python",
   "pygments_lexer": "ipython3",
   "version": "3.9.7"
  }
 },
 "nbformat": 4,
 "nbformat_minor": 4
}
